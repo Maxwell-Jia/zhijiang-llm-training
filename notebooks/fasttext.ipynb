{
 "cells": [
  {
   "cell_type": "code",
   "execution_count": 1,
   "metadata": {},
   "outputs": [],
   "source": [
    "import fasttext\n",
    "import gzip\n",
    "import json\n",
    "import os"
   ]
  },
  {
   "cell_type": "code",
   "execution_count": 2,
   "metadata": {},
   "outputs": [],
   "source": [
    "file = \"/mnt/geogpt-gpfs/llm-course/public/datasets/dolma_v1_7/wiki/documents/megawika-0000.json.gz\""
   ]
  },
  {
   "cell_type": "code",
   "execution_count": 3,
   "metadata": {},
   "outputs": [
    {
     "data": {
      "text/plain": [
       "2736"
      ]
     },
     "execution_count": 3,
     "metadata": {},
     "output_type": "execute_result"
    }
   ],
   "source": [
    "text_list = []\n",
    "with gzip.open(file, 'rt') as f:\n",
    "    for line in f:\n",
    "        data = json.loads(line)\n",
    "        text_list.append(data['text'])\n",
    "len(text_list)"
   ]
  },
  {
   "cell_type": "code",
   "execution_count": 4,
   "metadata": {},
   "outputs": [],
   "source": [
    "text_list = [text.replace('\\n', ' ') for text in text_list]"
   ]
  },
  {
   "cell_type": "code",
   "execution_count": 2,
   "metadata": {},
   "outputs": [],
   "source": [
    "model = fasttext.load_model(\"../outputs/astro-or-not-classifier/model.bin\")"
   ]
  },
  {
   "cell_type": "code",
   "execution_count": 7,
   "metadata": {},
   "outputs": [],
   "source": [
    "# Predict\n",
    "predictions = model.predict(text_list)\n",
    "astro_text_idx = [i for i, pred in enumerate(predictions[0]) \\\n",
    "                    if pred[0] == \"__label__astronomy\" \\\n",
    "                    and predictions[1][i] >= 0.9]"
   ]
  },
  {
   "cell_type": "code",
   "execution_count": 10,
   "metadata": {},
   "outputs": [
    {
     "data": {
      "text/plain": [
       "74"
      ]
     },
     "execution_count": 10,
     "metadata": {},
     "output_type": "execute_result"
    }
   ],
   "source": [
    "len(astro_text_idx)"
   ]
  },
  {
   "cell_type": "code",
   "execution_count": 2,
   "metadata": {},
   "outputs": [],
   "source": [
    "text_list = []\n",
    "with open(\"../datasets/filtered-c4.jsonl\", 'r') as f:\n",
    "    for line in f:\n",
    "        data = json.loads(line)\n",
    "        text_list.append(data['text'])"
   ]
  },
  {
   "cell_type": "code",
   "execution_count": 5,
   "metadata": {},
   "outputs": [
    {
     "name": "stdout",
     "output_type": "stream",
     "text": [
      "Another popular way to find M31 is by star hopping from Alpheratz, a corner star of the great square of Pegasus. Take the side of the square of Pegasus that faces the “W” shape of Cassiopeia and then go to the star at the top of this edge (Alpheratz). Starting from Alpheratz, hop two brightish stars up to Mirach, then hop one step to a fainter star at a right angle to Mirach as shown below. Andromeda will be one further hop the same distance in that direction as shown below.\n",
      "The scientific name for the Sun is the \"Sun\" and its first alphabet should be capitalized. Stars are also categorized based on their temperature and their size. Based on their temperature, they are classified into O, B, A, F, G, K and M stars with the O stars being the hottest with temperatures of about 50,000 K and the M stars being the coolest with temperatures of about 3000 K. Each group is subdivided into 10 classes (eg. O0, O1,..., O9, B0, B1,...). Based on the size and luminosity, the stars are classified into classes Ia, Ib, II, III, IV, and V. Type I stars are supergiant stars, II means giant stars, etc. Finally class V are stars called main-sequence stars which are \"normal\" stars (that fuse hydrogen in their cores). Based on this notation, our Sun is a star of spectral class G2 and luminosity class V (main sequence). So the Sun is a G2V star.\n",
      "Abstract Solar radio observations provide a unique diagnostic of the outer solar atmosphere. However, the inhomogeneous turbulent corona strongly affects the propagation of the emitted radio waves, so decoupling the intrinsic properties of the emitting source from the effects of radio wave propagation has long been a major challenge in solar physics. Here we report quantitative spatial and frequency characterization of solar radio burst fine structures observed with the Low Frequency Array, an instrument with high-time resolution that also permits imaging at scales much shorter than those corresponding to radio wave propagation in the corona. The observations demonstrate that radio wave propagation effects, and not the properties of the intrinsic emission source, dominate the observed spatial characteristics of radio burst images. These results permit more accurate estimates of source brightness temperatures, and open opportunities for quantitative study of the mechanisms that create the turbulent coronal medium through which the emitted radiation propagates. GB/T 7714 Kontar, E. P.,Yu, S.,Kuznetsov, A. A.,et al. Imaging spectroscopy of solar radio burst fine structures[J]. NATURE COMMUNICATIONS,2017,8. APA Kontar, E. P..,Yu, S..,Kuznetsov, A. A..,Emslie, A. G..,Alcock, B..,...&Subramanian, P..(2017).Imaging spectroscopy of solar radio burst fine structures.NATURE COMMUNICATIONS,8. MLA Kontar, E. P.,et al.\"Imaging spectroscopy of solar radio burst fine structures\".NATURE COMMUNICATIONS 8(2017).\n",
      "Within star clusters, close encounters between single and multiple stars can be frequent and may lead to the production of exotic stars like X-ray sources and blue stragglers. By using the small-N-body code FEWBODY and another visualization software, a few visualizations of interesting stellar encounters were created. In all of these movies, star sizes and colors are based on the actual radii and temperatures of the given stars (with some artistic license taken). Color-coded tails are shown to help keep track of the individual stars. During a collision, the encounter is slowed down, and after the collision, the system is paused and rotated, both to show more detail of the interaction. Here are shown four examples.\n",
      "The Ice Giants of our Solar System by Roger Preece. Uranus and Neptune circle the sun far out from its heat and light, unknown as planets before the arrival of the telescope. Together they are known as the Ice Giants. Yet much is now known about these mysterious bodies, thanks to the exploits of the outer planets spacecraft Voyager 2, and the use of advanced technology with present day optical instruments. Find out more about peculiar orbits and violent storms out at the edges of the solar system. Hear about some of the strange ideas as to how they got there in the first place. Wonder if there are more planets like them going around other stars.\n",
      "Photochemical Phase i.e. light reaction (consisting of non-cyclic and cyclic photophosphorylation reactions) is essential for the following dark reaction (Phase-II) of photosynthesis. It utilizes the unending and unlimited source of energy i.e. solar energy (light) and converts it into the biologically usable form.i.e. ATP energy (Chemical Energy) with the help of PS-I and PS-II. Light reaction of photosynthesis is the primary source of ATP energy (chemical energy) for all organisms in the world. It produces the assimilatory power \"ATP and NADPH2\" needed for the synthesis of carbohydrates from CO2 during the Dark reaction (Phase-II). It releases oxygen in the atmosphere during photolysis of water. Light reaction of photosynthesis is the only source of oxygen in nature. it is responsible for maintaining the percentage of oxygen in the atmosphere.\n",
      "\"Equipped with his five senses, man explores the universe around him and calls the adventure Science, wrote Edwin Hubble. \"At the last dim horizon, we search among ghostly errors of observations for landmarks that are scarcely more substantial. The search will continue. The urge is older than history. It is not satisfied and it will not be oppressed. The history of astronomy is a history of receding horizons.\" Twenty-five years ago, NASA launched one of the most ambitious experiments in the history of astronomy: the Hubble Space Telescope, which has so radically changed and enlarged our picture and understanding of the cosmos and our place in it, is a cooperative project of NASA and ESA (European Space Agency), put into orbit in 1990 600 kilometers above the earth, allowing an unrivaled, undisturbed view into deep space. During the past several years alone, the Hubble has delivered a goldmine of discoveries: from the mapping of cosmic-web of dark matter, to rich tapestries of evolving deep-space galaxies, to the very dawn of galaxies using mankind's deepest optical view of the universe, to evidence for Dark Energy in the young universe from Hubble Ultra Deep Field, to compelling evidence of monster black holes at the centers of galaxies. Not by accident, the space-born telescope is named after one of the most fascinating men in the history of science. Born in 1889, ten years after Einstein (of whom he had little knowledge), few greats have had more effect on our knowledge of the cosmos than Edwin Hubble. A naturally-gifted track star, and scholar, the Missouri-born Hubble spent his life following a doctorate in astronomy from the University of Chicago answering two of the most fundamental and profound questions about our universe: how big is it, and how old? When Hubble moved to California in 1919 to take up a position at the Mount Wilson Observatory near Los Angles, little was know about the size and age of the universe. The number of known galaxies at the time he first looked out to the cosmos from Mt Wilson was exactly one: the Milky Way. The Milky Way was thought to embrace the entire cosmos with everything else, distant puffs of celestial gas. Hubble's ignorance of Einstein's General Theory of Relativity led to his nor being able to connect the dots between a universe that was expanding evenly in all directions (the \"Hubble Constant\") to a geometrical starting point, a \"primeval atom, a Big Bang. That answer came several decades later with the discovery of cosmic background radiation from a hissing, constant, uniform low-frequency radio signal at a Bell Labs facility in rural New Jersey. The Hubble image of beautiful spiral galaxy M66 lies a mere 35 million light-years away. About 100 thousand light-years across, the island universe is well known to astronomers as a member of the Leo Triplet of galaxies. In M66, pronounced dust lanes and young, blue star clusters sweep along spiral arms dotted with the tell-tale glow of pink star forming regions.The bright, spiky stars lie in the foreground, within our own Milky Way Galaxy, but many, small, distant background galaxies can be seen in the cosmic snapshot.\n",
      "350 million light-years from Earth, two galaxies have had a collision of cosmic proportions. NASA’s New Horizons spacecraft recently turned its telescopic camera toward a field of stars, snapped an image — and made history. A chunk of Mars will soon be returning to the Red Planet aboard a 2020 NASA rover mission. ANU research has demonstrated a long-theorised nuclear effect, helping scientists understand how stars produce elements such as gold and platinum. A star about 100 light-years from Earth, hosts what may be one of the most massive and dense super-Earth planets yet detected. \n",
      "The Philae lander, part of the European Space Agency's Rosetta mission, captured this image of Comet 67P/Churyumov-Gerasimenko during Philae's descent toward the comet on Nov. 12, 2014, from a distance of about 2 miles (3.2 kilometers). Europe's Rosetta mission pulled off the first-ever soft landing on a comet Wednesday thanks to a lot of great engineering and hard work — along with a healthy dose of luck, mission scientists say. Rosetta's Philae lander successfully touched down on Comet 67P/Churyumov-Gerasimenko early Wednesday morning (Nov. 12), more than 300 million miles (483 million kilometers) from Earth. But Philae's anchoring harpoons didn't fire as planned, and the 220-lb. (100 kilograms) probe bounced off the comet twice before settling onto its icy surface for good. \"We were very, very lucky yesterday — so much luck,\" Stephan Ulamec, Philae lander manager at the DLR German Aerospace Center, said during a news conference Thursday. To put those numbers in perspective: The escape velocity at Earth's surface is about 25,000 mph (40,230 km/h). \"I'm actually flabbergasted,\" he told Space.com. \"Somehow, the German gods were looking [over the mission].\" Good engineering certainly helped as well. As Philae spiraled down toward the comet, it did have enough kinetic energy to escape back into space, said Mark Hofstadter, deputy principal investigator for MIRO (Microwave Instrument on the Rosetta Orbiter). However, shock absorbers in Philae's legs absorbed and converted to heat much of that energy when the probe hit the surface the first time, he noted. \"Plus, a little energy was absorbed by the surface the lander hit (maybe crushing some rocks),\" Hofstadter, who's based at NASA's Jet Propulsion Laboratory in Pasadena, California, told Space.com via email. \"So knowing that even a tiny amount of energy was dissipated means that the lander would not have enough energy to escape again.\" Indeed, the Philae team built some redundancy into the lander, allowing it to cope with a variety of different situations and parameters on Comet 67P, Ulamec said. \"The harpoons did not work, but the landing gear worked very nicely,\" he said. Schultz observed that the Rosetta mission was conceived and developed more than 20 years ago, when researchers knew far less about comets than they do today. \"It's remarkable that this has worked so well,\" he said. \"And this is why it's always worth it to dare, and to explore. That's the big lesson for me.\" With the probe in its current precarious position, the mission team is hesistant to try firing the anchoring harpoons again or use Philae's drilling instrument, which can collect samples from more than 8 inches (20 centimeters) beneath the comet's surface, Ulamec said. But Philae is already well into its \"first science sequence\" phase, or FSS, using its 10 different instruments to get a first taste of the comet. The FSS will last until Philae's primary batteries run out — perhaps two to three days after touchdown, mission officials have said. The plan also calls for Philae to keep studying Comet 67P over the long term, using batteries that will be recharged by solar cells aboard the lander. This second phase was envisioned to last a maximum of three months or so, but expectations may have to be recalibrated downward after the double-bounce landing; Philae is only getting about 1.5 hours of sunlight per day in its current location, while the intended landing site offered 6 to 7 hours per day, the lander's handlers say. Regardless, Philae should still manage to collect a great deal of interesting data, mission team members say. The lander's scientific gear is designed to study the composition and structure of Comet 67P in great detail. For example, one instrument employs radio waves to probe the interior of the comet's nucleus, while another identifies complex organic molecules on the surface. \"This is real comet geology now,\" Schultz said. \"I think it's going to be a spectacular mission.\" Comets are icy remnants left over from the solar system's formation 4.6 billion years ago, so observations made by Philae and the Rosetta mothership should shed light on the conditions prevalent when Earth and the other planets were taking shape, mission officials have said.\n",
      "Princeton researchers contributed extensively to the Planck space mission that earlier this year released the most accurate and detailed map ever made of the oldest light in the universe, revealing new information about its age, contents and origins. The results suggest that the universe is expanding more slowly than scientists thought, and is 13.8 billion years old, about 100 million years older than previous estimates. The data also show there is less dark energy and more matter — both matter that we can see and invisible dark matter — in the universe than previously thought. Princeton researchers helped design and implement an essential scientific instrument on the European Space Agency’s Planck mission through the agency’s collaboration with NASA. Princeton astrophysicists worked with scientists from the United States, Europe and Canada to analyze the Planck data. “The Planck satellite has expanded the knowledge we gained from previous missions,” said William Jones, a Princeton assistant professor of physics who was involved in the design of a detector that surveys light at high frequencies.\n"
     ]
    }
   ],
   "source": [
    "import random\n",
    "\n",
    "random_idx = random.sample(range(len(text_list)), 10)\n",
    "\n",
    "for idx in random_idx:\n",
    "    print(text_list[idx])"
   ]
  },
  {
   "cell_type": "code",
   "execution_count": 1,
   "metadata": {},
   "outputs": [],
   "source": [
    "import gzip \n",
    "import json\n",
    "import os"
   ]
  },
  {
   "cell_type": "code",
   "execution_count": 10,
   "metadata": {},
   "outputs": [],
   "source": [
    "dolma_root = \"/mnt/geogpt-gpfs/llm-course/public/datasets/dolma_v1_7/CC_head/documents\"\n",
    "tianwen_dolma_root = \"/mnt/geogpt-gpfs/llm-course/public/tianwen/datasets/dolma_v1.7\"\n",
    "\n",
    "file_name = \"cc_en_head-0000.json.gz\"\n",
    "\n",
    "dolma_file = os.path.join(dolma_root, file_name)\n",
    "tianwen_file = os.path.join(tianwen_dolma_root, file_name)"
   ]
  },
  {
   "cell_type": "code",
   "execution_count": 11,
   "metadata": {},
   "outputs": [],
   "source": [
    "dolma_text_list = []\n",
    "with gzip.open(dolma_file, 'rt') as f:\n",
    "    for line in f:\n",
    "        data = json.loads(line)\n",
    "        dolma_text_list.append(data)\n",
    "        if len(dolma_text_list) == 1000:\n",
    "            break"
   ]
  },
  {
   "cell_type": "code",
   "execution_count": 7,
   "metadata": {},
   "outputs": [
    {
     "data": {
      "text/plain": [
       "dict_keys(['added', 'attributes', 'created', 'id', 'metadata', 'source', 'text'])"
      ]
     },
     "execution_count": 7,
     "metadata": {},
     "output_type": "execute_result"
    }
   ],
   "source": [
    "dolma_text_list[10].keys()"
   ]
  },
  {
   "cell_type": "code",
   "execution_count": 10,
   "metadata": {},
   "outputs": [
    {
     "data": {
      "text/plain": [
       "'/mnt/geogpt-gpfs/llm-course/public/tianwen/datasets/dolma_v1.7/cc_en_head-0000.json.gz'"
      ]
     },
     "execution_count": 10,
     "metadata": {},
     "output_type": "execute_result"
    }
   ],
   "source": [
    "tianwen_file"
   ]
  },
  {
   "cell_type": "code",
   "execution_count": 5,
   "metadata": {},
   "outputs": [],
   "source": [
    "tianwen_text_list = []\n",
    "file = gzip.open(tianwen_file, 'rt').readline()"
   ]
  },
  {
   "cell_type": "code",
   "execution_count": 12,
   "metadata": {},
   "outputs": [
    {
     "data": {
      "text/plain": [
       "{'added': '2023-04-11T09:57:03.044571+00:00',\n",
       " 'attributes': {'cc_multi_bin__cc_multi_bin__hq': [[0, 9626, 0.08264]],\n",
       "  'cc_multi_bin__cc_multi_bin__lq': [[0, 9626, 0.91738]],\n",
       "  'dedupe_para_ngrams_13_1': [],\n",
       "  'paloma_paragraphs_bff_duplicates': []},\n",
       " 'created': '2020-01-17T12:48:23Z',\n",
       " 'id': 'http://250news.theexplorationplace.com/www.250news.com/65595.html',\n",
       " 'metadata': {'bucket': 'head',\n",
       "  'cc_segment': 'crawl-data/CC-MAIN-2020-05/segments/1579250589560.16/wet/CC-MAIN-20200117123339-20200117151339-00000.warc.wet.gz',\n",
       "  'date_download': '2020-01-17T12:48:23Z',\n",
       "  'digest': 'sha1:K2RJ3HQ73U7W4LKKI2JVVGZ4ABQFRF6Q',\n",
       "  'language': 'en',\n",
       "  'language_score': 0.97,\n",
       "  'length': 13925,\n",
       "  'line_ids': [27,\n",
       "   29,\n",
       "   30,\n",
       "   31,\n",
       "   32,\n",
       "   33,\n",
       "   34,\n",
       "   35,\n",
       "   36,\n",
       "   37,\n",
       "   38,\n",
       "   39,\n",
       "   40,\n",
       "   41,\n",
       "   43,\n",
       "   44,\n",
       "   45,\n",
       "   46,\n",
       "   47,\n",
       "   48,\n",
       "   49,\n",
       "   50,\n",
       "   51,\n",
       "   52,\n",
       "   53,\n",
       "   54,\n",
       "   55,\n",
       "   56,\n",
       "   57,\n",
       "   58,\n",
       "   59,\n",
       "   60,\n",
       "   62,\n",
       "   63,\n",
       "   64,\n",
       "   65,\n",
       "   67,\n",
       "   68,\n",
       "   69,\n",
       "   70,\n",
       "   71,\n",
       "   72,\n",
       "   73,\n",
       "   75,\n",
       "   76,\n",
       "   77,\n",
       "   78,\n",
       "   79,\n",
       "   80,\n",
       "   81,\n",
       "   82,\n",
       "   84,\n",
       "   85,\n",
       "   86,\n",
       "   88,\n",
       "   89,\n",
       "   90,\n",
       "   91,\n",
       "   92,\n",
       "   93,\n",
       "   94,\n",
       "   95,\n",
       "   96,\n",
       "   97,\n",
       "   98,\n",
       "   99,\n",
       "   100,\n",
       "   102,\n",
       "   104,\n",
       "   105,\n",
       "   106,\n",
       "   107,\n",
       "   108,\n",
       "   109,\n",
       "   110,\n",
       "   111,\n",
       "   112,\n",
       "   113,\n",
       "   116,\n",
       "   119,\n",
       "   120,\n",
       "   121,\n",
       "   122,\n",
       "   123,\n",
       "   124],\n",
       "  'nlines': 85,\n",
       "  'original_length': 15502,\n",
       "  'original_nlines': 130,\n",
       "  'perplexity': 321.5,\n",
       "  'provenance': 'cc_en_head-0000.json.gz:1',\n",
       "  'source_domain': '250news.theexplorationplace.com',\n",
       "  'title': '250 News | RiverBend Project Shows PG is “Open for Business”',\n",
       "  'url': 'http://250news.theexplorationplace.com/www.250news.com/65595.html'},\n",
       " 'source': 'common-crawl',\n",
       " 'text': 'Prince George, B.C.- Construction of the new RiverBend Seniors housing project in Prince George is well underway, but it’s a project that almost didn’t happen.\\nThe $33 million dollar project was first presented to Mayor and Council in 2013 “We didn’t get much traction at that time” says developer Frank Quinn of A&T Ventures. He says it wasn’t until Mayor Lyn Hall was elected that the wheels were set in motion.\\nHall and key members of the City Staff, arranged to meet with Quinn in Kamloops and laid out the possible benefits of developing such a project in P.G. Those benefits include: a ten year tax break, and just over $265 thousand dollars in development cost charges relief plus an affordable housing grant of $855 thousand.\\n“This project comes at the perfect time for us” says Gwen Norheim. She and her husband are among those who have already purchased a unit and expect to move to their new condo in the fall of 2017. “We were at the point of knowing we would need to move, but didn’t want to move into any of the existing facilities in Prince George.” Norheim was a teacher at the Connaught Junior High School which was on the neighbouring property until it burned to the ground. “In all my years of teaching I never imagined I would be living in its backyard.” She is also pleased their little dog, a small poodle terrier mix, will be able to live with them.\\nQuinn says they did make an interesting discovery when they started construction, “The creek ran right through the property. Even though we had done our geo-tech work, we had no idea until we got into the ground how much of a challenge that was going to be for an excavation.” But he says their past experience in dealing with alpine construction and avalanche trenches gave them the know-how to deal with it.\\nThat’s it, big smiles Shirley and Mike… there is an election coming.\\nThis is an excellent and well needed project!\\nIf the NDP was in power (god forbid) and it was NDP MLA’s in the picture, you would be the first to be all over it, praising them and the NDP to no end!!\\nGo ahead and deny it if you want, but we know better!\\nWhat we do know with the liberals is they are always raising fees and medical costs for retired seniors..and also charging them more every year for staying in senior housing.. All the seniors really appreciate being driven into poverty after paying taxes all their lives.. Thanks liberals.\\ngrow up galt.\\nOkay, so we get rid of all our debt. Let us say that the last little bit will be taken care of in 20 years from now. As time progresses, there will be progressively more money available to spend on parks, to spend on no tax increase for a few years until inflation starts catching up, and so on.\\nWe will then buy new buildings, additions, infrastructure, enhancements of one sort or other, rebuilding old stock, etc. at 2036 dollars which will have 20 years inflation on them. EXCEPT, we cannot do that until we have saved for these new buildings and other infrastructure so we can see such development 40 years from now.\\nGreat planning! Good understanding of how the operation of a City works and how financing city development works.\\nGreen parks???? forget abut it. Learn to design them so that they are as natural as possible.\\nHave a walk sometimes on the cover of the First Avenue landfill. That is the way to design low maintenance “parks”. Forget about Rainbow, Connaught Hill, Fort George/Lheitli Tenneh, etc. Just like they have forgotten about Cottonwood Island Park and the Heritage Riverfront Trail system.\\nYess the owners of the condos can save money too if they tap into the creek that runs underneath.\\nI see we really do not give a chit about housing for seniors, do we???\\nSeems like a great project to me . I could be wrong but what is wrong with keeping more seniors in Prince George?\\nNothing, just the usual curmudgeons that believe every project is a personal assault on their lives, all change is bad and anytime you even see a politician it must be a self serving photo-op.\\nWhat is great about a project that only got built due to all the corporate welfare that it received? Cons just love to go on and on about the wonders of Capitalism over Socialism, but this thing only got built due to corporate socialism. The mayor and council of this city should put a sign that reads “For Sale…cheap” outside of council Chambers.\\nThe income tax being paid by construction workers on this project will more than pay for any so called corporate welfare.\\nRemember, the City does not collect any income tax. Now it will not collect any property tax for 10 years either.\\nThis is the slow incursion of the City getting into the housing business, another download from the provincial government. Anything BC Housing has been getting into in the recent past reeks of Provincial Government download of responsibility without the necessary transfer of funds to the City. This is simply a hidden Triple P project.\\n18 of the market units have already been sold! Seems that demand for these units is already there!\\nI for one have parents who are in their very golden years. A facility like this, especially next door to Gateway, will be well utilized and much appreciated by those that will live there and by those who will be able to easily visit elderly family members who will choose to stay here instead of moving south!\\nSounds like a win for those that will live there, those who’s family will live there, those who will work there and those who will benefit from the economic activity generated from the retirement funds that will be spent here instead of in the Okanagan or other points down south!\\nWhat is so special about being close to Gateway? Are they in the market for cars, mufflers, tires, motel room rentals? Do they need to be close to a new Firehall?\\nPerhaps they eat a lot of Big Macs or Popa and Moma Burgers or 711 wedges.\\nThe Gateway might be a clean-look route to drive through, but it is not exactly a shopping, restaurant or entertainment mecca.\\nCome to think of it, which part of PG is, other than parts of downtown plus the major shopping centres.\\n1? What about all the other projects that developers walk away from, because the city is truly not ‘open for business’. Change the archaic zoning bylaws. Get Ospika built. \\nSomeone might want to ask a few questions. As an example do you think that a 10 year tax break, along with $265,000.00 in development cost charges relief, plus the $855,000.00 affordable housing grant is a little excessive.\\nWho will own the rental units when the project is completed. My understanding is that the Government will own 33 units and Oncore Seniors Society, received financing from the Government over a long period of time, and they will own the other 33 units. The contractor of course will sell the other 107 Units. One assumes at a hefty profit.\\nMy understanding is that these rental units will be available for low to moderate income seniors. Hmmmm. Where does one go to get on the waiting list.\\nThese are one bedroom units with a space for a micro wave (Not provided) and while some aspects of it are pretty good, in actual fact, we end up with putting all this money into a project and end up with 33 units. Hmmmm.\\nPerhaps gopg2015 could do some of his research and come up with a dollar number for the cost per unit, and perhaps some inkling as to how one can access these rentals.\\nThe Government has similar projects in Squamish, Kamloops, Peachland, etc; so this is not exactly new.\\nPalopu, your comment shows us the amount of homework and research you did to support your assertions… my thumbs up!\\nThere is insufficient information to come up with a cost per unit. The proper measure of such a development is the cost per square foot and then attribute that to units of varying sizes.\\nThere would also be a difference between the market housing and the subsidized housing portion.\\nFinally, I would want to want some info on which tax dollars are attributable to what portion of the development.\\nWhat I am really trying to get at is why should anyone in the public have to do such calculations? This is a mixed housing project, and the taxpayer is funding part of it.\\nThis City has not yet learned the notion transparency.\\nIn this case they and the province need to prepare a prospectus of the project, the amount of subsidies provided by the taxpayer to something which few us will see any direct benefits from, the benefits which will accrue to the general population, who will be the source of the majority of the funds, and which services we will not see for general application to our annual budget deliberations, and so forth.\\nI think THAT is the message we need to keep hammering the City as well as the province with. We should not have to second guess such information or spend more than a minute on finding the information.\\nThis looks like its going to be a successfull project with obvious demand for the units. How come it took a company from Kamloops to make this happen? The developers in PG seem to be very risk adverse and lack the vision and capasity to grow this city to its potential.\\nThis is one of those statements that could actually be very good or very bad . . .\\nIn my estimation it is more often bad from the taxpayer’s point of view.\\nThere needs to be a reporting out to the citizens of PG of the actual cost to the City of the subsidy provided and the measurable value received in return stated both in quality and in monetary quantity..\\nLike to get the names of the voters who voted for A. The Harper Conservatives B. The BC Liberals. Just get a good look.\\nI voted for both. I’ll show you my name if you show me yours.'}"
      ]
     },
     "execution_count": 12,
     "metadata": {},
     "output_type": "execute_result"
    }
   ],
   "source": [
    "dolma_text_list[0]"
   ]
  },
  {
   "cell_type": "code",
   "execution_count": 9,
   "metadata": {},
   "outputs": [
    {
     "data": {
      "text/plain": [
       "'{\"added\":\"2023-04-11T09:57:03.044571+00:00\",\"attributes\":{\"cc_multi_bin__cc_multi_bin__hq\":[[0,9626,0.08264]],\"cc_multi_bin__cc_multi_bin__lq\":[[0,9626,0.91738]],\"dedupe_para_ngrams_13_1\":[],\"paloma_paragraphs_bff_duplicates\":[]},\"created\":\"2020-01-17T12:48:23Z\",\"id\":\"http://250news.theexplorationplace.com/www.250news.com/65595.html\",\"metadata\":{\"bucket\":\"head\",\"cc_segment\":\"crawl-data/CC-MAIN-2020-05/segments/1579250589560.16/wet/CC-MAIN-20200117123339-20200117151339-00000.warc.wet.gz\",\"date_download\":\"2020-01-17T12:48:23Z\",\"digest\":\"sha1:K2RJ3HQ73U7W4LKKI2JVVGZ4ABQFRF6Q\",\"language\":\"en\",\"language_score\":0.97,\"length\":13925,\"line_ids\":[27,29,30,31,32,33,34,35,36,37,38,39,40,41,43,44,45,46,47,48,49,50,51,52,53,54,55,56,57,58,59,60,62,63,64,65,67,68,69,70,71,72,73,75,76,77,78,79,80,81,82,84,85,86,88,89,90,91,92,93,94,95,96,97,98,99,100,102,104,105,106,107,108,109,110,111,112,113,116,119,120,121,122,123,124],\"nlines\":85,\"original_length\":15502,\"original_nlines\":130,\"perplexity\":321.5,\"provenance\":\"cc_en_head-0000.json.gz:1\",\"source_domain\":\"250news.theexplorationplace.com\",\"title\":\"250 News | RiverBend Project Shows PG is “Open for Business”\",\"url\":\"http://250news.theexplorationplace.com/www.250news.com/65595.html\"},\"source\":\"common-crawl\",\"text\":\"Prince George, B.C.- Construction of the new RiverBend Seniors housing project in Prince George is well underway, but it’s a project that almost didn’t happen.\\\\nThe $33 million dollar project was first presented to Mayor and Council in 2013 “We didn’t get much traction at that time” says developer Frank Quinn of A&T Ventures. He says it wasn’t until Mayor Lyn Hall was elected that the wheels were set in motion.\\\\nHall and key members of the City Staff, arranged to meet with Quinn in Kamloops and laid out the possible benefits of developing such a project in P.G. Those benefits include: a ten year tax break, and just over $265 thousand dollars in development cost charges relief plus an affordable housing grant of $855 thousand.\\\\n“This project comes at the perfect time for us” says Gwen Norheim. She and her husband are among those who have already purchased a unit and expect to move to their new condo in the fall of 2017. “We were at the point of knowing we would need to move, but didn’t want to move into any of the existing facilities in Prince George.” Norheim was a teacher at the Connaught Junior High School which was on the neighbouring property until it burned to the ground. “In all my years of teaching I never imagined I would be living in its backyard.” She is also pleased their little dog, a small poodle terrier mix, will be able to live with them.\\\\nQuinn says they did make an interesting discovery when they started construction, “The creek ran right through the property. Even though we had done our geo-tech work, we had no idea until we got into the ground how much of a challenge that was going to be for an excavation.” But he says their past experience in dealing with alpine construction and avalanche trenches gave them the know-how to deal with it.\\\\nThat’s it, big smiles Shirley and Mike… there is an election coming.\\\\nThis is an excellent and well needed project!\\\\nIf the NDP was in power (god forbid) and it was NDP MLA’s in the picture, you would be the first to be all over it, praising them and the NDP to no end!!\\\\nGo ahead and deny it if you want, but we know better!\\\\nWhat we do know with the liberals is they are always raising fees and medical costs for retired seniors..and also charging them more every year for staying in senior housing.. All the seniors really appreciate being driven into poverty after paying taxes all their lives.. Thanks liberals.\\\\ngrow up galt.\\\\nOkay, so we get rid of all our debt. Let us say that the last little bit will be taken care of in 20 years from now. As time progresses, there will be progressively more money available to spend on parks, to spend on no tax increase for a few years until inflation starts catching up, and so on.\\\\nWe will then buy new buildings, additions, infrastructure, enhancements of one sort or other, rebuilding old stock, etc. at 2036 dollars which will have 20 years inflation on them. EXCEPT, we cannot do that until we have saved for these new buildings and other infrastructure so we can see such development 40 years from now.\\\\nGreat planning! Good understanding of how the operation of a City works and how financing city development works.\\\\nGreen parks???? forget abut it. Learn to design them so that they are as natural as possible.\\\\nHave a walk sometimes on the cover of the First Avenue landfill. That is the way to design low maintenance “parks”. Forget about Rainbow, Connaught Hill, Fort George/Lheitli Tenneh, etc. Just like they have forgotten about Cottonwood Island Park and the Heritage Riverfront Trail system.\\\\nYess the owners of the condos can save money too if they tap into the creek that runs underneath.\\\\nI see we really do not give a chit about housing for seniors, do we???\\\\nSeems like a great project to me . I could be wrong but what is wrong with keeping more seniors in Prince George?\\\\nNothing, just the usual curmudgeons that believe every project is a personal assault on their lives, all change is bad and anytime you even see a politician it must be a self serving photo-op.\\\\nWhat is great about a project that only got built due to all the corporate welfare that it received? Cons just love to go on and on about the wonders of Capitalism over Socialism, but this thing only got built due to corporate socialism. The mayor and council of this city should put a sign that reads “For Sale…cheap” outside of council Chambers.\\\\nThe income tax being paid by construction workers on this project will more than pay for any so called corporate welfare.\\\\nRemember, the City does not collect any income tax. Now it will not collect any property tax for 10 years either.\\\\nThis is the slow incursion of the City getting into the housing business, another download from the provincial government. Anything BC Housing has been getting into in the recent past reeks of Provincial Government download of responsibility without the necessary transfer of funds to the City. This is simply a hidden Triple P project.\\\\n18 of the market units have already been sold! Seems that demand for these units is already there!\\\\nI for one have parents who are in their very golden years. A facility like this, especially next door to Gateway, will be well utilized and much appreciated by those that will live there and by those who will be able to easily visit elderly family members who will choose to stay here instead of moving south!\\\\nSounds like a win for those that will live there, those who’s family will live there, those who will work there and those who will benefit from the economic activity generated from the retirement funds that will be spent here instead of in the Okanagan or other points down south!\\\\nWhat is so special about being close to Gateway? Are they in the market for cars, mufflers, tires, motel room rentals? Do they need to be close to a new Firehall?\\\\nPerhaps they eat a lot of Big Macs or Popa and Moma Burgers or 711 wedges.\\\\nThe Gateway might be a clean-look route to drive through, but it is not exactly a shopping, restaurant or entertainment mecca.\\\\nCome to think of it, which part of PG is, other than parts of downtown plus the major shopping centres.\\\\n1? What about all the other projects that developers walk away from, because the city is truly not ‘open for business’. Change the archaic zoning bylaws. Get Ospika built. \\\\nSomeone might want to ask a few questions. As an example do you think that a 10 year tax break, along with $265,000.00 in development cost charges relief, plus the $855,000.00 affordable housing grant is a little excessive.\\\\nWho will own the rental units when the project is completed. My understanding is that the Government will own 33 units and Oncore Seniors Society, received financing from the Government over a long period of time, and they will own the other 33 units. The contractor of course will sell the other 107 Units. One assumes at a hefty profit.\\\\nMy understanding is that these rental units will be available for low to moderate income seniors. Hmmmm. Where does one go to get on the waiting list.\\\\nThese are one bedroom units with a space for a micro wave (Not provided) and while some aspects of it are pretty good, in actual fact, we end up with putting all this money into a project and end up with 33 units. Hmmmm.\\\\nPerhaps gopg2015 could do some of his research and come up with a dollar number for the cost per unit, and perhaps some inkling as to how one can access these rentals.\\\\nThe Government has similar projects in Squamish, Kamloops, Peachland, etc; so this is not exactly new.\\\\nPalopu, your comment shows us the amount of homework and research you did to support your assertions… my thumbs up!\\\\nThere is insufficient information to come up with a cost per unit. The proper measure of such a development is the cost per square foot and then attribute that to units of varying sizes.\\\\nThere would also be a difference between the market housing and the subsidized housing portion.\\\\nFinally, I would want to want some info on which tax dollars are attributable to what portion of the development.\\\\nWhat I am really trying to get at is why should anyone in the public have to do such calculations? This is a mixed housing project, and the taxpayer is funding part of it.\\\\nThis City has not yet learned the notion transparency.\\\\nIn this case they and the province need to prepare a prospectus of the project, the amount of subsidies provided by the taxpayer to something which few us will see any direct benefits from, the benefits which will accrue to the general population, who will be the source of the majority of the funds, and which services we will not see for general application to our annual budget deliberations, and so forth.\\\\nI think THAT is the message we need to keep hammering the City as well as th'"
      ]
     },
     "execution_count": 9,
     "metadata": {},
     "output_type": "execute_result"
    }
   ],
   "source": [
    "file[:10000]"
   ]
  },
  {
   "cell_type": "code",
   "execution_count": 12,
   "metadata": {},
   "outputs": [
    {
     "name": "stdout",
     "output_type": "stream",
     "text": [
      "The files are the same.\n"
     ]
    }
   ],
   "source": [
    "import gzip\n",
    "import hashlib\n",
    "\n",
    "def calculate_hash(file_path, hash_function='sha256'):\n",
    "    hash_obj = hashlib.new(hash_function)\n",
    "    with gzip.open(file_path, 'rb') as f:\n",
    "        while chunk := f.read(8192):\n",
    "            hash_obj.update(chunk)\n",
    "    return hash_obj.hexdigest()\n",
    "\n",
    "def compare_files(file1, file2):\n",
    "    hash1 = calculate_hash(file1)\n",
    "    hash2 = calculate_hash(file2)\n",
    "    return hash1 == hash2\n",
    "\n",
    "# 使用示例\n",
    "file1 = dolma_file\n",
    "file2 = tianwen_file\n",
    "\n",
    "if compare_files(file1, file2):\n",
    "    print(\"The files are the same.\")\n",
    "else:\n",
    "    print(\"The files are different.\")\n"
   ]
  },
  {
   "cell_type": "code",
   "execution_count": null,
   "metadata": {},
   "outputs": [],
   "source": []
  }
 ],
 "metadata": {
  "kernelspec": {
   "display_name": "llm",
   "language": "python",
   "name": "python3"
  },
  "language_info": {
   "codemirror_mode": {
    "name": "ipython",
    "version": 3
   },
   "file_extension": ".py",
   "mimetype": "text/x-python",
   "name": "python",
   "nbconvert_exporter": "python",
   "pygments_lexer": "ipython3",
   "version": "3.11.9"
  }
 },
 "nbformat": 4,
 "nbformat_minor": 2
}
