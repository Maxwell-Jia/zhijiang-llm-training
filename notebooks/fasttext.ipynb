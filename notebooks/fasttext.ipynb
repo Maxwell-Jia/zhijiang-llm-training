{
 "cells": [
  {
   "cell_type": "code",
   "execution_count": 1,
   "metadata": {},
   "outputs": [],
   "source": [
    "import fasttext\n",
    "import gzip\n",
    "import json\n",
    "import os"
   ]
  },
  {
   "cell_type": "code",
   "execution_count": 2,
   "metadata": {},
   "outputs": [],
   "source": [
    "file = \"/mnt/geogpt-gpfs/llm-course/public/datasets/dolma_v1_7/wiki/documents/megawika-0000.json.gz\""
   ]
  },
  {
   "cell_type": "code",
   "execution_count": 3,
   "metadata": {},
   "outputs": [
    {
     "data": {
      "text/plain": [
       "2736"
      ]
     },
     "execution_count": 3,
     "metadata": {},
     "output_type": "execute_result"
    }
   ],
   "source": [
    "text_list = []\n",
    "with gzip.open(file, 'rt') as f:\n",
    "    for line in f:\n",
    "        data = json.loads(line)\n",
    "        text_list.append(data['text'])\n",
    "len(text_list)"
   ]
  },
  {
   "cell_type": "code",
   "execution_count": 4,
   "metadata": {},
   "outputs": [],
   "source": [
    "text_list = [text.replace('\\n', ' ') for text in text_list]"
   ]
  },
  {
   "cell_type": "code",
   "execution_count": 2,
   "metadata": {},
   "outputs": [],
   "source": [
    "model = fasttext.load_model(\"../outputs/astro-or-not-classifier/model.bin\")"
   ]
  },
  {
   "cell_type": "code",
   "execution_count": 7,
   "metadata": {},
   "outputs": [],
   "source": [
    "# Predict\n",
    "predictions = model.predict(text_list)\n",
    "astro_text_idx = [i for i, pred in enumerate(predictions[0]) \\\n",
    "                    if pred[0] == \"__label__astronomy\" \\\n",
    "                    and predictions[1][i] >= 0.9]"
   ]
  },
  {
   "cell_type": "code",
   "execution_count": 10,
   "metadata": {},
   "outputs": [
    {
     "data": {
      "text/plain": [
       "74"
      ]
     },
     "execution_count": 10,
     "metadata": {},
     "output_type": "execute_result"
    }
   ],
   "source": [
    "len(astro_text_idx)"
   ]
  },
  {
   "cell_type": "code",
   "execution_count": 12,
   "metadata": {},
   "outputs": [
    {
     "data": {
      "text/plain": [
       "'We don\\'t fully understand what the Universe\\'s first stars looked like. We know they must have formed from hydrogen and helium since most heavier elements were only produced after the stars formed. And we know that the lack of those heavier elements changed the dynamics of star formation in a way that meant the first stars must have been very large. But just how large remains an unanswered question. Now, researchers are announcing that they might be a step closer to directly observing one of those stars. Thanks to a fortuitous alignment between a distant star and an intervening galaxy cluster, gravitational lensing has magnified an object that was present less than a billion years after the Big Bang. The object is likely to either be a lone star or a compact system of two or three stars. And its discoverers say they have already booked time for follow-on observations with NASA\\'s latest space telescope. Gravity’s lens Lenses work by arranging materials so that light travels on a curved path through them. Gravity, which distorts space-time itself, can perform a similar function, altering space so that light travels a curved path. There have been plenty of examples of the gravitational influences of objects in the foreground creating a lens-like effect, amplifying and/or distorting the light from a more distant object behind them. This success has prompted the formation of a team called the Reionization Lensing Cluster Survey, or RELICS. The group points space telescopes at large clusters of galaxies in the expectation that the strong gravitational fields there are more likely to create lensing effects. The team is searching for objects that date back to the period of reionization, when light from the first stars started stripping the electrons off the hydrogen in the interstellar material. Because of the uneven distribution of matter in the natural world, gravitational lenses are uneven and often create funhouse effects and duplicate images. Using these effects, along with information on the distribution of matter in the foreground, it\\'s possible to make a rough map of where the lensing effects are strongest. This map can include a \"lensing critical curve,\" which can be identified because most background objects show up as two images, with one on either side of the curve. But a handful of objects will end up on the curve itself and experience the strongest magnification. Lone star As you can see in the image at the top of this article, most of the objects on the lensing critical curve appear to be extended along with it, indicating that they\\'re likely to be larger structures, such as galaxies or star clusters. The exception, noted by the arrow, is WHL0137-LS. The researchers have named it Earendel, the Old English term for the morning star, because it appears to date from the Universe\\'s morning, about 900 million years after the Big Bang. Various models of the lensing effects suggest that Earendel is magnified by at least a factor of 1,000—and possibly as much as 40,000. Based on that, it\\'s possible to set limits on the size of the object being lensed. These limits show that its maximum possible size is smaller than the star clusters we\\'ve previously identified, meaning that Earendel is likely to be a small star system with three or fewer stars. It could also be a single star. Even if Earendel is a multi-star system, most of the mass of these systems tends to end up in one of the stars. Working under the assumption that most of what they were looking at was a single star, the researchers inferred its properties based on light that had originally been emitted in the UV range. They found that Earendel may be anywhere from 40 to 500 times the mass of the Sun. It also has only about 10 percent of the heavier elements found in the Sun. More precise details aren\\'t possible at the moment. But the researchers indicate that they will use the Webb telescope to determine exactly what type of star it is. Based on both the estimated time at which Earendel existed and the presence of at least some heavier elements, we can tell that it\\'s not one of the Universe\\'s first stars. But during the launch of the Webb, scientists indicated that the telescope will be capable of imaging earlier star populations if they\\'re also lensed sufficiently. We\\'ll be hearing more about this imaging technique in the near future. Nature, 2022. DOI: 10.1038/s41586-022-04449-y (About DOIs). You must login or create an account to comment.'"
      ]
     },
     "execution_count": 12,
     "metadata": {},
     "output_type": "execute_result"
    }
   ],
   "source": [
    "text_list[astro_text_idx[0]]"
   ]
  }
 ],
 "metadata": {
  "kernelspec": {
   "display_name": "llm",
   "language": "python",
   "name": "python3"
  },
  "language_info": {
   "codemirror_mode": {
    "name": "ipython",
    "version": 3
   },
   "file_extension": ".py",
   "mimetype": "text/x-python",
   "name": "python",
   "nbconvert_exporter": "python",
   "pygments_lexer": "ipython3",
   "version": "3.11.9"
  }
 },
 "nbformat": 4,
 "nbformat_minor": 2
}
