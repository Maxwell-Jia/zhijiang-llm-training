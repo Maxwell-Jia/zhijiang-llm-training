{
 "cells": [
  {
   "cell_type": "code",
   "execution_count": 1,
   "metadata": {},
   "outputs": [],
   "source": [
    "import fasttext\n",
    "import gzip\n",
    "import json\n",
    "import os"
   ]
  },
  {
   "cell_type": "code",
   "execution_count": 2,
   "metadata": {},
   "outputs": [],
   "source": [
    "file = \"/mnt/geogpt-gpfs/llm-course/public/datasets/dolma_v1_7/wiki/documents/megawika-0000.json.gz\""
   ]
  },
  {
   "cell_type": "code",
   "execution_count": 3,
   "metadata": {},
   "outputs": [
    {
     "data": {
      "text/plain": [
       "2736"
      ]
     },
     "execution_count": 3,
     "metadata": {},
     "output_type": "execute_result"
    }
   ],
   "source": [
    "text_list = []\n",
    "with gzip.open(file, 'rt') as f:\n",
    "    for line in f:\n",
    "        data = json.loads(line)\n",
    "        text_list.append(data['text'])\n",
    "len(text_list)"
   ]
  },
  {
   "cell_type": "code",
   "execution_count": 4,
   "metadata": {},
   "outputs": [],
   "source": [
    "text_list = [text.replace('\\n', ' ') for text in text_list]"
   ]
  },
  {
   "cell_type": "code",
   "execution_count": 2,
   "metadata": {},
   "outputs": [],
   "source": [
    "model = fasttext.load_model(\"../outputs/astro-or-not-classifier/model.bin\")"
   ]
  },
  {
   "cell_type": "code",
   "execution_count": 7,
   "metadata": {},
   "outputs": [],
   "source": [
    "# Predict\n",
    "predictions = model.predict(text_list)\n",
    "astro_text_idx = [i for i, pred in enumerate(predictions[0]) \\\n",
    "                    if pred[0] == \"__label__astronomy\" \\\n",
    "                    and predictions[1][i] >= 0.9]"
   ]
  },
  {
   "cell_type": "code",
   "execution_count": 10,
   "metadata": {},
   "outputs": [
    {
     "data": {
      "text/plain": [
       "74"
      ]
     },
     "execution_count": 10,
     "metadata": {},
     "output_type": "execute_result"
    }
   ],
   "source": [
    "len(astro_text_idx)"
   ]
  },
  {
   "cell_type": "code",
   "execution_count": 2,
   "metadata": {},
   "outputs": [],
   "source": [
    "text_list = []\n",
    "with open(\"../datasets/filtered-c4.jsonl\", 'r') as f:\n",
    "    for line in f:\n",
    "        data = json.loads(line)\n",
    "        text_list.append(data['text'])"
   ]
  },
  {
   "cell_type": "code",
   "execution_count": 5,
   "metadata": {},
   "outputs": [
    {
     "name": "stdout",
     "output_type": "stream",
     "text": [
      "Another popular way to find M31 is by star hopping from Alpheratz, a corner star of the great square of Pegasus. Take the side of the square of Pegasus that faces the “W” shape of Cassiopeia and then go to the star at the top of this edge (Alpheratz). Starting from Alpheratz, hop two brightish stars up to Mirach, then hop one step to a fainter star at a right angle to Mirach as shown below. Andromeda will be one further hop the same distance in that direction as shown below.\n",
      "The scientific name for the Sun is the \"Sun\" and its first alphabet should be capitalized. Stars are also categorized based on their temperature and their size. Based on their temperature, they are classified into O, B, A, F, G, K and M stars with the O stars being the hottest with temperatures of about 50,000 K and the M stars being the coolest with temperatures of about 3000 K. Each group is subdivided into 10 classes (eg. O0, O1,..., O9, B0, B1,...). Based on the size and luminosity, the stars are classified into classes Ia, Ib, II, III, IV, and V. Type I stars are supergiant stars, II means giant stars, etc. Finally class V are stars called main-sequence stars which are \"normal\" stars (that fuse hydrogen in their cores). Based on this notation, our Sun is a star of spectral class G2 and luminosity class V (main sequence). So the Sun is a G2V star.\n",
      "Abstract Solar radio observations provide a unique diagnostic of the outer solar atmosphere. However, the inhomogeneous turbulent corona strongly affects the propagation of the emitted radio waves, so decoupling the intrinsic properties of the emitting source from the effects of radio wave propagation has long been a major challenge in solar physics. Here we report quantitative spatial and frequency characterization of solar radio burst fine structures observed with the Low Frequency Array, an instrument with high-time resolution that also permits imaging at scales much shorter than those corresponding to radio wave propagation in the corona. The observations demonstrate that radio wave propagation effects, and not the properties of the intrinsic emission source, dominate the observed spatial characteristics of radio burst images. These results permit more accurate estimates of source brightness temperatures, and open opportunities for quantitative study of the mechanisms that create the turbulent coronal medium through which the emitted radiation propagates. GB/T 7714 Kontar, E. P.,Yu, S.,Kuznetsov, A. A.,et al. Imaging spectroscopy of solar radio burst fine structures[J]. NATURE COMMUNICATIONS,2017,8. APA Kontar, E. P..,Yu, S..,Kuznetsov, A. A..,Emslie, A. G..,Alcock, B..,...&Subramanian, P..(2017).Imaging spectroscopy of solar radio burst fine structures.NATURE COMMUNICATIONS,8. MLA Kontar, E. P.,et al.\"Imaging spectroscopy of solar radio burst fine structures\".NATURE COMMUNICATIONS 8(2017).\n",
      "Within star clusters, close encounters between single and multiple stars can be frequent and may lead to the production of exotic stars like X-ray sources and blue stragglers. By using the small-N-body code FEWBODY and another visualization software, a few visualizations of interesting stellar encounters were created. In all of these movies, star sizes and colors are based on the actual radii and temperatures of the given stars (with some artistic license taken). Color-coded tails are shown to help keep track of the individual stars. During a collision, the encounter is slowed down, and after the collision, the system is paused and rotated, both to show more detail of the interaction. Here are shown four examples.\n",
      "The Ice Giants of our Solar System by Roger Preece. Uranus and Neptune circle the sun far out from its heat and light, unknown as planets before the arrival of the telescope. Together they are known as the Ice Giants. Yet much is now known about these mysterious bodies, thanks to the exploits of the outer planets spacecraft Voyager 2, and the use of advanced technology with present day optical instruments. Find out more about peculiar orbits and violent storms out at the edges of the solar system. Hear about some of the strange ideas as to how they got there in the first place. Wonder if there are more planets like them going around other stars.\n",
      "Photochemical Phase i.e. light reaction (consisting of non-cyclic and cyclic photophosphorylation reactions) is essential for the following dark reaction (Phase-II) of photosynthesis. It utilizes the unending and unlimited source of energy i.e. solar energy (light) and converts it into the biologically usable form.i.e. ATP energy (Chemical Energy) with the help of PS-I and PS-II. Light reaction of photosynthesis is the primary source of ATP energy (chemical energy) for all organisms in the world. It produces the assimilatory power \"ATP and NADPH2\" needed for the synthesis of carbohydrates from CO2 during the Dark reaction (Phase-II). It releases oxygen in the atmosphere during photolysis of water. Light reaction of photosynthesis is the only source of oxygen in nature. it is responsible for maintaining the percentage of oxygen in the atmosphere.\n",
      "\"Equipped with his five senses, man explores the universe around him and calls the adventure Science, wrote Edwin Hubble. \"At the last dim horizon, we search among ghostly errors of observations for landmarks that are scarcely more substantial. The search will continue. The urge is older than history. It is not satisfied and it will not be oppressed. The history of astronomy is a history of receding horizons.\" Twenty-five years ago, NASA launched one of the most ambitious experiments in the history of astronomy: the Hubble Space Telescope, which has so radically changed and enlarged our picture and understanding of the cosmos and our place in it, is a cooperative project of NASA and ESA (European Space Agency), put into orbit in 1990 600 kilometers above the earth, allowing an unrivaled, undisturbed view into deep space. During the past several years alone, the Hubble has delivered a goldmine of discoveries: from the mapping of cosmic-web of dark matter, to rich tapestries of evolving deep-space galaxies, to the very dawn of galaxies using mankind's deepest optical view of the universe, to evidence for Dark Energy in the young universe from Hubble Ultra Deep Field, to compelling evidence of monster black holes at the centers of galaxies. Not by accident, the space-born telescope is named after one of the most fascinating men in the history of science. Born in 1889, ten years after Einstein (of whom he had little knowledge), few greats have had more effect on our knowledge of the cosmos than Edwin Hubble. A naturally-gifted track star, and scholar, the Missouri-born Hubble spent his life following a doctorate in astronomy from the University of Chicago answering two of the most fundamental and profound questions about our universe: how big is it, and how old? When Hubble moved to California in 1919 to take up a position at the Mount Wilson Observatory near Los Angles, little was know about the size and age of the universe. The number of known galaxies at the time he first looked out to the cosmos from Mt Wilson was exactly one: the Milky Way. The Milky Way was thought to embrace the entire cosmos with everything else, distant puffs of celestial gas. Hubble's ignorance of Einstein's General Theory of Relativity led to his nor being able to connect the dots between a universe that was expanding evenly in all directions (the \"Hubble Constant\") to a geometrical starting point, a \"primeval atom, a Big Bang. That answer came several decades later with the discovery of cosmic background radiation from a hissing, constant, uniform low-frequency radio signal at a Bell Labs facility in rural New Jersey. The Hubble image of beautiful spiral galaxy M66 lies a mere 35 million light-years away. About 100 thousand light-years across, the island universe is well known to astronomers as a member of the Leo Triplet of galaxies. In M66, pronounced dust lanes and young, blue star clusters sweep along spiral arms dotted with the tell-tale glow of pink star forming regions.The bright, spiky stars lie in the foreground, within our own Milky Way Galaxy, but many, small, distant background galaxies can be seen in the cosmic snapshot.\n",
      "350 million light-years from Earth, two galaxies have had a collision of cosmic proportions. NASA’s New Horizons spacecraft recently turned its telescopic camera toward a field of stars, snapped an image — and made history. A chunk of Mars will soon be returning to the Red Planet aboard a 2020 NASA rover mission. ANU research has demonstrated a long-theorised nuclear effect, helping scientists understand how stars produce elements such as gold and platinum. A star about 100 light-years from Earth, hosts what may be one of the most massive and dense super-Earth planets yet detected. \n",
      "The Philae lander, part of the European Space Agency's Rosetta mission, captured this image of Comet 67P/Churyumov-Gerasimenko during Philae's descent toward the comet on Nov. 12, 2014, from a distance of about 2 miles (3.2 kilometers). Europe's Rosetta mission pulled off the first-ever soft landing on a comet Wednesday thanks to a lot of great engineering and hard work — along with a healthy dose of luck, mission scientists say. Rosetta's Philae lander successfully touched down on Comet 67P/Churyumov-Gerasimenko early Wednesday morning (Nov. 12), more than 300 million miles (483 million kilometers) from Earth. But Philae's anchoring harpoons didn't fire as planned, and the 220-lb. (100 kilograms) probe bounced off the comet twice before settling onto its icy surface for good. \"We were very, very lucky yesterday — so much luck,\" Stephan Ulamec, Philae lander manager at the DLR German Aerospace Center, said during a news conference Thursday. To put those numbers in perspective: The escape velocity at Earth's surface is about 25,000 mph (40,230 km/h). \"I'm actually flabbergasted,\" he told Space.com. \"Somehow, the German gods were looking [over the mission].\" Good engineering certainly helped as well. As Philae spiraled down toward the comet, it did have enough kinetic energy to escape back into space, said Mark Hofstadter, deputy principal investigator for MIRO (Microwave Instrument on the Rosetta Orbiter). However, shock absorbers in Philae's legs absorbed and converted to heat much of that energy when the probe hit the surface the first time, he noted. \"Plus, a little energy was absorbed by the surface the lander hit (maybe crushing some rocks),\" Hofstadter, who's based at NASA's Jet Propulsion Laboratory in Pasadena, California, told Space.com via email. \"So knowing that even a tiny amount of energy was dissipated means that the lander would not have enough energy to escape again.\" Indeed, the Philae team built some redundancy into the lander, allowing it to cope with a variety of different situations and parameters on Comet 67P, Ulamec said. \"The harpoons did not work, but the landing gear worked very nicely,\" he said. Schultz observed that the Rosetta mission was conceived and developed more than 20 years ago, when researchers knew far less about comets than they do today. \"It's remarkable that this has worked so well,\" he said. \"And this is why it's always worth it to dare, and to explore. That's the big lesson for me.\" With the probe in its current precarious position, the mission team is hesistant to try firing the anchoring harpoons again or use Philae's drilling instrument, which can collect samples from more than 8 inches (20 centimeters) beneath the comet's surface, Ulamec said. But Philae is already well into its \"first science sequence\" phase, or FSS, using its 10 different instruments to get a first taste of the comet. The FSS will last until Philae's primary batteries run out — perhaps two to three days after touchdown, mission officials have said. The plan also calls for Philae to keep studying Comet 67P over the long term, using batteries that will be recharged by solar cells aboard the lander. This second phase was envisioned to last a maximum of three months or so, but expectations may have to be recalibrated downward after the double-bounce landing; Philae is only getting about 1.5 hours of sunlight per day in its current location, while the intended landing site offered 6 to 7 hours per day, the lander's handlers say. Regardless, Philae should still manage to collect a great deal of interesting data, mission team members say. The lander's scientific gear is designed to study the composition and structure of Comet 67P in great detail. For example, one instrument employs radio waves to probe the interior of the comet's nucleus, while another identifies complex organic molecules on the surface. \"This is real comet geology now,\" Schultz said. \"I think it's going to be a spectacular mission.\" Comets are icy remnants left over from the solar system's formation 4.6 billion years ago, so observations made by Philae and the Rosetta mothership should shed light on the conditions prevalent when Earth and the other planets were taking shape, mission officials have said.\n",
      "Princeton researchers contributed extensively to the Planck space mission that earlier this year released the most accurate and detailed map ever made of the oldest light in the universe, revealing new information about its age, contents and origins. The results suggest that the universe is expanding more slowly than scientists thought, and is 13.8 billion years old, about 100 million years older than previous estimates. The data also show there is less dark energy and more matter — both matter that we can see and invisible dark matter — in the universe than previously thought. Princeton researchers helped design and implement an essential scientific instrument on the European Space Agency’s Planck mission through the agency’s collaboration with NASA. Princeton astrophysicists worked with scientists from the United States, Europe and Canada to analyze the Planck data. “The Planck satellite has expanded the knowledge we gained from previous missions,” said William Jones, a Princeton assistant professor of physics who was involved in the design of a detector that surveys light at high frequencies.\n"
     ]
    }
   ],
   "source": [
    "import random\n",
    "\n",
    "random_idx = random.sample(range(len(text_list)), 10)\n",
    "\n",
    "for idx in random_idx:\n",
    "    print(text_list[idx])"
   ]
  },
  {
   "cell_type": "code",
   "execution_count": null,
   "metadata": {},
   "outputs": [],
   "source": []
  }
 ],
 "metadata": {
  "kernelspec": {
   "display_name": "llm",
   "language": "python",
   "name": "python3"
  },
  "language_info": {
   "codemirror_mode": {
    "name": "ipython",
    "version": 3
   },
   "file_extension": ".py",
   "mimetype": "text/x-python",
   "name": "python",
   "nbconvert_exporter": "python",
   "pygments_lexer": "ipython3",
   "version": "3.11.9"
  }
 },
 "nbformat": 4,
 "nbformat_minor": 2
}
