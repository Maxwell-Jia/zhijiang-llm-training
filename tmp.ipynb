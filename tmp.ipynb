{
 "cells": [
  {
   "cell_type": "code",
   "execution_count": 10,
   "metadata": {},
   "outputs": [],
   "source": [
    "from transformers import AutoTokenizer, AutoModelForCausalLM\n",
    "import torch"
   ]
  },
  {
   "cell_type": "code",
   "execution_count": 63,
   "metadata": {},
   "outputs": [
    {
     "name": "stderr",
     "output_type": "stream",
     "text": [
      "The `load_in_4bit` and `load_in_8bit` arguments are deprecated and will be removed in the future versions. Please, pass a `BitsAndBytesConfig` object in `quantization_config` argument instead.\n"
     ]
    },
    {
     "data": {
      "application/vnd.jupyter.widget-view+json": {
       "model_id": "9b5f2cb704d34db6821b3dbcd98ceaf1",
       "version_major": 2,
       "version_minor": 0
      },
      "text/plain": [
       "Loading checkpoint shards:   0%|          | 0/4 [00:00<?, ?it/s]"
      ]
     },
     "metadata": {},
     "output_type": "display_data"
    }
   ],
   "source": [
    "model_path = \"/mnt/geogpt-gpfs/llm-course/public/models/llama3/Meta-Llama-3-8B-Instruct/\"\n",
    "\n",
    "model = AutoModelForCausalLM.from_pretrained(\n",
    "    model_path, \n",
    "    device_map=\"cuda:0\",\n",
    "    torch_dtype=torch.bfloat16,\n",
    "    load_in_4bit=True,\n",
    "    # attn_implementation=\"flash_attention_2\",\n",
    ")"
   ]
  },
  {
   "cell_type": "code",
   "execution_count": 64,
   "metadata": {},
   "outputs": [
    {
     "name": "stderr",
     "output_type": "stream",
     "text": [
      "Special tokens have been added in the vocabulary, make sure the associated word embeddings are fine-tuned or trained.\n"
     ]
    }
   ],
   "source": [
    "tokenizer = AutoTokenizer.from_pretrained(model_path)"
   ]
  },
  {
   "cell_type": "code",
   "execution_count": 65,
   "metadata": {},
   "outputs": [
    {
     "data": {
      "text/plain": [
       "128256"
      ]
     },
     "execution_count": 65,
     "metadata": {},
     "output_type": "execute_result"
    }
   ],
   "source": [
    "len(tokenizer)"
   ]
  },
  {
   "cell_type": "code",
   "execution_count": 66,
   "metadata": {},
   "outputs": [],
   "source": [
    "tokenizer.pad_token_id = 128001"
   ]
  },
  {
   "cell_type": "code",
   "execution_count": 67,
   "metadata": {},
   "outputs": [
    {
     "name": "stderr",
     "output_type": "stream",
     "text": [
      "Setting `pad_token_id` to `eos_token_id`:128001 for open-end generation.\n"
     ]
    }
   ],
   "source": [
    "# Format message with the command-r chat template\n",
    "messages = [\n",
    "    [{\"role\": \"user\", \"content\": \"As someone who's been following the advancements of observational cosmology closely, the issue of host galaxy mismatches for Type Ia Supernovae when deducing cosmological parameters has been quite pertinent. Considering the efforts made by the researchers in using the Dark Energy Survey 5-Year photometric sample, I would like to understand in detail how host galaxy mismatches can influence the results? Furthermore, the methodology utilized in this study intrigues me. Could you elaborate on the process of creating the deep galaxy catalog and the significance of photometric redshifts as well as the role of spectroscopic information in ensuring the fidelity of the catalog matching? Also, how were the simulations structured to model these host galaxy mismatches, and what findings about the impact on cosmological parameters were unearthed? It would be a bonus to comprehend the measures taken to account for host confusion and its contribution to the biases in question. Lastly, the steps taken after identifying mismatches for improving the accuracy of future measurements warrant discussion too. This investigation seems to carry substantial weight for the astrophysics community and your detailed explanation would be much appreciated.\"}]\n",
    "]\n",
    "input_ids = tokenizer.apply_chat_template(messages, tokenize=True, add_generation_prompt=True, return_tensors=\"pt\")\n",
    "## <BOS_TOKEN><|START_OF_TURN_TOKEN|><|USER_TOKEN|>Hello, how are you?<|END_OF_TURN_TOKEN|><|START_OF_TURN_TOKEN|><|CHATBOT_TOKEN|>\n",
    "input_ids = input_ids.to(\"cuda:0\")\n",
    "attention_mask = input_ids.ne(tokenizer.pad_token_id).long()\n",
    "\n",
    "\n",
    "gen_tokens = model.generate(\n",
    "    input_ids, \n",
    "    attention_mask=attention_mask,\n",
    "    max_new_tokens=1024, \n",
    "    do_sample=True, \n",
    "    temperature=0.3,\n",
    "    )\n",
    "\n",
    "# gen_text = tokenizer.decode(gen_tokens[0])\n",
    "# print(gen_text)"
   ]
  },
  {
   "cell_type": "code",
   "execution_count": 68,
   "metadata": {},
   "outputs": [
    {
     "data": {
      "text/plain": [
       "'<|begin_of_text|><|start_header_id|>user<|end_header_id|>\\n\\nAs someone who\\'s been following the advancements of observational cosmology closely, the issue of host galaxy mismatches for Type Ia Supernovae when deducing cosmological parameters has been quite pertinent. Considering the efforts made by the researchers in using the Dark Energy Survey 5-Year photometric sample, I would like to understand in detail how host galaxy mismatches can influence the results? Furthermore, the methodology utilized in this study intrigues me. Could you elaborate on the process of creating the deep galaxy catalog and the significance of photometric redshifts as well as the role of spectroscopic information in ensuring the fidelity of the catalog matching? Also, how were the simulations structured to model these host galaxy mismatches, and what findings about the impact on cosmological parameters were unearthed? It would be a bonus to comprehend the measures taken to account for host confusion and its contribution to the biases in question. Lastly, the steps taken after identifying mismatches for improving the accuracy of future measurements warrant discussion too. This investigation seems to carry substantial weight for the astrophysics community and your detailed explanation would be much appreciated.<|eot_id|><|start_header_id|>assistant<|end_header_id|>\\n\\nI\\'m thrilled to delve into the intricacies of host galaxy mismatches and their impact on cosmological parameter estimation, specifically in the context of the Dark Energy Survey (DES) 5-Year photometric sample.\\n\\n**Host Galaxy Mismatches: The Problem**\\n\\nType Ia Supernovae (SNe Ia) are used as \"standard candles\" to measure the expansion history of the universe. However, the host galaxy of the SNe Ia can affect the measurement. If the host galaxy is not correctly identified, it can lead to biases in the estimation of cosmological parameters, such as the Hubble constant (H0) and the dark energy equation of state. This is because the host galaxy can influence the observed properties of the SNe Ia, such as its luminosity and color.\\n\\n**Creating the Deep Galaxy Catalog**\\n\\nThe DES 5-Year photometric sample is used to create a deep galaxy catalog. This catalog is constructed by combining data from the DES and other surveys, such as the Sloan Digital Sky Survey (SDSS) and the Wide-field Infrared Survey Explorer (WISE). The catalog includes galaxies with photometric redshifts (photo-z) and spectroscopic redshifts.\\n\\n**Photometric Redshifts**\\n\\nPhotometric redshifts are estimates of the redshift (distance) of a galaxy based on its photometric properties, such as its color and magnitude. These estimates are obtained by comparing the observed colors of the galaxy to those predicted by galaxy evolution models. The accuracy of photometric redshifts depends on the quality of the photometry and the galaxy evolution models used.\\n\\n**Spectroscopic Information**\\n\\nSpectroscopic redshifts are obtained by analyzing the light spectrum of the galaxy, which provides a more direct measurement of its distance. Spectroscopic redshifts are used to validate the photometric redshifts and to identify galaxies with uncertain redshifts.\\n\\n**Simulations**\\n\\nTo model host galaxy mismatches, simulations are constructed using galaxy evolution models and Monte Carlo simulations. These simulations generate mock galaxy catalogs that mimic the properties of real galaxies, including their redshift distributions and luminosity functions. The simulations are used to estimate the impact of host galaxy mismatches on cosmological parameter estimation.\\n\\n**Findings**\\n\\nThe study finds that host galaxy mismatches can lead to biases in the estimation of cosmological parameters. The biases are more significant for galaxies with uncertain photometric redshifts or those with complex morphologies. The simulations suggest that the biases can be reduced by using spectroscopic redshifts to validate the photometric redshifts and by incorporating additional information, such as galaxy morphology and stellar mass.\\n\\n**Measures to Account for Host Confusion**\\n\\nTo account for host confusion, the study uses a variety of techniques, including:\\n\\n1. **Spectroscopic validation**: Spectroscopic redshifts are used to validate the photometric redshifts and to identify galaxies with uncertain redshifts.\\n2. **Galaxy morphology**: Galaxy morphology is used to identify galaxies with complex morphologies that may be difficult to identify.\\n3. **Stellar mass**: Stellar mass is used to estimate the mass of the galaxy and to identify galaxies with uncertain masses.\\n4. **Redshift distributions**: Redshift distributions are used to estimate the redshift distribution of the galaxy and to identify galaxies with uncertain redshifts.\\n\\n**Steps to Improve Accuracy**\\n\\nTo improve the accuracy of future measurements, the study recommends the following steps:\\n\\n1. **Increase spectroscopic validation**: Increase the use of spectroscopic redshifts to validate photometric redshifts and to identify galaxies with uncertain redshifts.\\n2. **Improve galaxy morphology**: Improve galaxy morphology classification to identify galaxies with complex morphologies.\\n3. **Use stellar mass estimates**: Use stellar mass estimates to estimate the mass of the galaxy and to identify galaxies with uncertain masses.\\n4. **Develop new galaxy evolution models**: Develop new galaxy evolution models that can better account for the complex properties of galaxies.\\n\\nIn conclusion, host galaxy mismatches can significantly impact the estimation of cosmological parameters. The study highlights the importance of using spectroscopic redshifts to validate photometric redshifts and of incorporating additional information, such as galaxy morphology and stellar mass, to improve the accuracy of future measurements.<|eot_id|><|start_header_id|>assistant<|end_header_id|>\\n\\nIt seems like you\\'re quite interested in the topic of host galaxy mismatches and their impact on cosmological parameter estimation. I\\'m happy to provide more details on the study and its findings.\\n\\n**Host Galaxy Mismatches: The Problem**\\n\\nHost galaxy mismatches occur when the host galaxy of a Type Ia Supernova (SNe Ia) is incorrectly identified. This can lead to biases in the estimation of cosmological parameters, such as the Hubble constant (H0) and the dark energy equation of state. The host galaxy can influence the observed properties of the SNe Ia, such as its luminosity and color.\\n\\n**Creating the Deep Galaxy Catalog**\\n\\nThe Dark Energy Survey (DES) 5-Year photometric sample is used to create a deep galaxy catalog.'"
      ]
     },
     "execution_count": 68,
     "metadata": {},
     "output_type": "execute_result"
    }
   ],
   "source": [
    "gen_text = tokenizer.decode(gen_tokens[0])\n",
    "gen_text"
   ]
  },
  {
   "cell_type": "code",
   "execution_count": 6,
   "metadata": {},
   "outputs": [
    {
     "name": "stdout",
     "output_type": "stream",
     "text": [
      "As someone who's been following the advancements of observational cosmology closely, the issue of host galaxy mismatches for Type Ia Supernovae when deducing cosmological parameters has been quite pertinent. Considering the efforts made by the researchers in using the Dark Energy Survey 5-Year photometric sample, I would like to understand in detail how host galaxy mismatches can influence the results? Furthermore, the methodology utilized in this study intrigues me. Could you elaborate on the process of creating the deep galaxy catalog and the significance of photometric redshifts as well as the role of spectroscopic information in ensuring the fidelity of the catalog matching? Also, how were the simulations structured to model these host galaxy mismatches, and what findings about the impact on cosmological parameters were unearthed? It would be a bonus to comprehend the measures taken to account for host confusion and its contribution to the biases in question. Lastly, the steps taken after identifying mismatches for improving the accuracy of future measurements warrant discussion too. This investigation seems to carry substantial weight for the astrophysics community and your detailed explanation would be much appreciated.\n",
      "Let's delve into this interesting topic of host galaxy mismatches and their influence on deducing cosmological parameters, especially in the context of the Dark Energy Survey (DES). I'll also touch upon the methodologies used and the insights gained from the study.\n",
      "\n",
      "**Host Galaxy Mismatches and Their Impact:**\n",
      "Host galaxy mismatches refer to situations where the identified host galaxy of a supernova (SN) is misidentified or incorrectly associated with the wrong galaxy. This can occur due to the physical separation of the supernova from its host galaxy, making visual identification challenging. These mismatches can introduce significant biases when deducing cosmological parameters, especially in the measurement of dark energy. The reason is that the properties of the host galaxy, such as its mass and star formation rate, can provide crucial context for understanding the supernova's behavior. Misidentifying the host can lead to erroneous conclusions about the supernova's intrinsic brightness and other key parameters.\n",
      "\n",
      "**Deep Galaxy Catalog and Photometric Redshifts:**\n",
      "The Dark Energy Survey's 5-Year photometric sample involves meticulous observations of large sky areas, resulting in a deep galaxy catalog. This catalog is created using multi-band imaging data, enabling the estimation of photometric redshifts (photo-z) for each galaxy. Photometric redshifts are crucial because they provide an estimate of the galaxy's distance from Earth, which is a key parameter in cosmology. While not as accurate as spectroscopic redshifts, photo-z offer a practical way to determine distances for vast numbers of galaxies.\n",
      "\n",
      "The process of creating this catalog involves carefully calibrating the photometric measurements of galaxy brightness across different filters. This enables the derivation of redshift probabilities, which are then used to assign a most likely redshift and its uncertainty for each galaxy.\n",
      "\n",
      "**Role of Spectroscopic Information:**\n",
      "Spectroscopic information plays a pivotal role in ensuring the reliability of catalog matching. While photometric data forms the backbone of the deep galaxy catalog, spectroscopic observations are crucial for confirming the redshifts of selected galaxies. By obtaining spectral data for a subset of galaxies, researchers can calibrate the photometric measurements and improve the accuracy of photometric redshifts. This is done by comparing the observed spectrum with template spectra of galaxies with known redshifts.\n",
      "\n",
      "Spectroscopic data also helps in distinguishing between different types of supernovae. Type Ia Supernovae (SNIa), which are essential for measuring cosmological parameters, can be differentiated from other supernova types based on their spectral features. Accurate classification is vital because mismatches are more likely to occur among SNIa, given their use in cosmology.\n",
      "\n",
      "**Simulating Host Galaxy Mismatches:**\n",
      "In the DES study, simulations were employed to model host galaxy mismatches. These simulations integrated various factors, including the distribution of supernovae within their host galaxies, the likelihood of mismatches based on supernova brightness, and the complexities of observing conditions. By mimicking these scenarios, researchers could gauge the potential impact on cosmological parameter estimation.\n",
      "\n",
      "The simulations revealed that host galaxy mismatches could indeed introduce biases in the measured cosmological parameters. For instance, the simulations indicated that the estimated value of omega_m (the matter density parameter) could be systematically lower than the true value, while the opposite effect was seen for omega_lambda (the dark energy density parameter). These biases could be substantial if not accounted for.\n",
      "\n",
      "**Addressing Host Confusion:**\n",
      "Host confusion, where multiple supernovae are associated with a single host galaxy or one supernova is mismatched with multiple potential hosts, is another critical aspect. This issue was tackled by incorporating the likelihood of correct associations based on the brightness of supernovae and their hosts. Probabilistic methods were used to assign a confidence level to each matching scenario, helping to mitigate the effects of host confusion.\n",
      "\n",
      "**Improving Accuracy for Future Measurements:**\n",
      "After identifying the potential impacts of host galaxy mismatches, the researchers took several steps to enhance the accuracy of future measurements:\n",
      "\n",
      "1. **Matching Criteria:** They refined the criteria for matching supernovae with their host galaxies, taking into account the likelihood of mismatches based on the separation between the supernova and potential host galaxies.\n",
      "\n",
      "2. **Bayesian Analysis:** Employing Bayesian analysis techniques, they developed models that incorporated the uncertainty associated with photometric redshifts and mismatch probabilities. This enabled them to assign more realistic errors to their cosmological parameter estimates.\n",
      "\n",
      "3. **Spectroscopic Follow-up:** Prioritizing spectroscopic observations for supernovae and their host galaxies was emphasized. While challenging due to the large number of potential targets, obtaining spectroscopic redshifts for a significant sample can greatly reduce the impact of mismatches.\n",
      "\n",
      "4. **Machine Learning:** Exploring the use of machine learning algorithms to identify host galaxies, based on their similarity to known host galaxy templates, was also considered a promising avenue.\n",
      "\n",
      "**Conclusion:**\n",
      "Indeed, the issue of host galaxy mismatches is a nuanced yet critical aspect of observational\n",
      "\n",
      "\n",
      "\n",
      "\n",
      "\n"
     ]
    }
   ],
   "source": [
    "for i in range(len(messages)):\n",
    "    gen_text = tokenizer.decode(gen_tokens[i])\n",
    "    print(messages[i][0]['content'])\n",
    "    print(gen_text.split('<|CHATBOT_TOKEN|>')[1].split(\"<|END_OF_TURN_TOKEN|>\")[0])\n",
    "    print('\\n\\n\\n\\n')"
   ]
  },
  {
   "cell_type": "code",
   "execution_count": 30,
   "metadata": {},
   "outputs": [
    {
     "data": {
      "text/plain": [
       "['What is the difference between a comet and an asteroid?',\n",
       " 'How does the Hubble Space Telescope differ from ground-based telescopes?',\n",
       " 'Explain the lifecycle of a star like our Sun',\n",
       " 'What are the main components of the Milky Way galaxy?',\n",
       " 'How do black holes form?',\n",
       " 'What is the significance of the cosmic microwave background radiation?',\n",
       " 'How do astronomers measure the distance to distant stars?',\n",
       " 'What is dark matter and why is it important in cosmology?',\n",
       " 'Explain the concept of redshift and how it relates to the expanding universe',\n",
       " 'What is the Hertzsprung-Russell diagram and how is it used in astronomy?']"
      ]
     },
     "execution_count": 30,
     "metadata": {},
     "output_type": "execute_result"
    }
   ],
   "source": [
    "with open(\"./datasets/question_astro.txt\", 'r') as f:\n",
    "    lines = f.read().splitlines()\n",
    "lines = [line.split('.')[1].strip() for line in lines]\n",
    "lines[:10]"
   ]
  },
  {
   "cell_type": "code",
   "execution_count": 31,
   "metadata": {},
   "outputs": [],
   "source": [
    "with open(\"./datasets/question_astro.txt\", 'w') as f:\n",
    "    f.write('\\n'.join(lines))"
   ]
  },
  {
   "cell_type": "code",
   "execution_count": 33,
   "metadata": {},
   "outputs": [],
   "source": [
    "gen_text = tokenizer.decode(gen_tokens[0], skip_special_tokens=True)"
   ]
  },
  {
   "cell_type": "code",
   "execution_count": 34,
   "metadata": {},
   "outputs": [
    {
     "data": {
      "text/plain": [
       "'<|START_OF_TURN_TOKEN|><|USER_TOKEN|>What is the principle of period modulation of RRab variable stars<|START_OF_TURN_TOKEN|><|CHATBOT_TOKEN|>RR Lyrae variable stars, specifically those classified as RRab type, exhibit a phenomenon known as period modulation. This intriguing behavior arises from complexities in the stars\\' pulsation mechanisms and likely reflects variations in the stellar environment. The fundamental principle behind period modulation can be summarized as follows:\\n\\nPeriod modulation in RRab variables refers to observable changes in the stars\\' pulsation periods over time. These variations in period are believed to originate from cyclical alterations in the stars\\' radial fundamental mode pulsations. RRab stars typically pulsate with a characteristic period, but this period is not constant and can exhibit short-term and long-term fluctuations.\\n\\nThe primary theory behind period modulation revolves around the concept of a \"period doubling window.\" This window corresponds to a range of pulsation periods where a non-linear resonance phenomenon occurs. Within this window, small changes in the star\\'s physical conditions or pulsation amplitude can lead to significant period variations. This phenomenon is thought to be driven by the interplay between the fundamental radial mode and higher-order non-radial pulsation modes.\\n\\nAs the star pulsates, the interaction between these different modes can cause periodic changes in the star\\'s brightness and color, further influencing the measured pulsation period. The period modulation may also be connected to variations in the star\\'s envelope, which alter the opacity and subsequently affect the radial pulsations.\\n\\nAdditionally, external factors such as binary companions, mass loss, or changes in the hydrogen-burning shell around the star\\'s core are believed to contribute to period modulation. These factors can introduce perturbations that affect the star\\'s pulsation behavior and lead to observable period variations.\\n\\nThe period modulation phenomenon in RRab variables is a window into the intricate dynamics of stellar pulsations and the complex interactions within the stellar interior. It serves as a valuable tool for astronomers, offering insights into the physical mechanisms driving these pulsations and the evolutionary state of these stars. By studying period modulation, researchers can probe the intricate physics of stellar evolution and gain a deeper understanding of the behavior of variable stars.'"
      ]
     },
     "execution_count": 34,
     "metadata": {},
     "output_type": "execute_result"
    }
   ],
   "source": [
    "gen_text"
   ]
  },
  {
   "cell_type": "code",
   "execution_count": 16,
   "metadata": {},
   "outputs": [
    {
     "name": "stderr",
     "output_type": "stream",
     "text": [
      "Detected kernel version 5.4.0, which is below the recommended minimum of 5.5.0; this can cause the process to hang. It is recommended to upgrade the kernel to the minimum version or higher.\n"
     ]
    },
    {
     "data": {
      "text/plain": [
       "[]"
      ]
     },
     "execution_count": 16,
     "metadata": {},
     "output_type": "execute_result"
    }
   ],
   "source": [
    "from accelerate import Accelerator\n",
    "\n",
    "accelerator = Accelerator()\n",
    "accelerator.free_memory()"
   ]
  },
  {
   "cell_type": "code",
   "execution_count": null,
   "metadata": {},
   "outputs": [],
   "source": []
  }
 ],
 "metadata": {
  "kernelspec": {
   "display_name": "llm",
   "language": "python",
   "name": "python3"
  },
  "language_info": {
   "codemirror_mode": {
    "name": "ipython",
    "version": 3
   },
   "file_extension": ".py",
   "mimetype": "text/x-python",
   "name": "python",
   "nbconvert_exporter": "python",
   "pygments_lexer": "ipython3",
   "version": "3.11.9"
  }
 },
 "nbformat": 4,
 "nbformat_minor": 2
}
