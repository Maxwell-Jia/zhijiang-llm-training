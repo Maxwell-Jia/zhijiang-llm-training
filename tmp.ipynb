{
 "cells": [
  {
   "cell_type": "code",
   "execution_count": 1,
   "metadata": {},
   "outputs": [],
   "source": [
    "with open('tmp.txt', 'r') as f:\n",
    "    lines = f.read().splitlines()"
   ]
  },
  {
   "cell_type": "code",
   "execution_count": 2,
   "metadata": {},
   "outputs": [
    {
     "data": {
      "text/plain": [
       "['2.0G -rw-rw-r-- 1 jmh jmh 2.0G Jun  5 17:57 009_00005.parquet',\n",
       " '1.9G -rw-rw-r-- 1 jmh jmh 1.9G Jun  5 18:13 012_00003.parquet',\n",
       " '1.3G -rw-rw-r-- 1 jmh jmh 1.3G Jun  5 14:42 010_00006.parquet',\n",
       " '1.3G -rw-rw-r-- 1 jmh jmh 1.3G Jun  5 20:18 007_00007.parquet',\n",
       " '894M -rw-rw-r-- 1 jmh jmh 894M Jun  5 14:21 000_00001.parquet',\n",
       " '848M -rw-rw-r-- 1 jmh jmh 848M Jun  5 15:25 003_00005.parquet',\n",
       " '723M -rw-rw-r-- 1 jmh jmh 723M Jun  5 16:08 013_00006.parquet',\n",
       " '709M -rw-rw-r-- 1 jmh jmh 709M Jun  5 16:02 013_00001.parquet',\n",
       " '702M -rw-rw-r-- 1 jmh jmh 702M Jun  5 15:46 009_00002.parquet',\n",
       " '697M -rw-rw-r-- 1 jmh jmh 697M Jun  5 16:13 013_00000.parquet',\n",
       " '687M -rw-rw-r-- 1 jmh jmh 687M Jun  5 16:02 013_00002.parquet',\n",
       " '679M -rw-rw-r-- 1 jmh jmh 679M Jun  5 16:11 013_00009.parquet',\n",
       " '673M -rw-rw-r-- 1 jmh jmh 673M Jun  5 16:05 013_00004.parquet',\n",
       " '670M -rw-rw-r-- 1 jmh jmh 670M Jun  5 16:05 013_00003.parquet',\n",
       " '661M -rw-rw-r-- 1 jmh jmh 661M Jun  5 16:08 013_00005.parquet',\n",
       " '643M -rw-rw-r-- 1 jmh jmh 643M Jun  5 16:11 013_00008.parquet',\n",
       " '541M -rw-rw-r-- 1 jmh jmh 541M Jun  5 15:02 000_00000.parquet',\n",
       " '516M -rw-rw-r-- 1 jmh jmh 516M Jun  5 18:06 009_00007.parquet',\n",
       " '475M -rw-rw-r-- 1 jmh jmh 475M Jun  5 15:13 011_00000.parquet',\n",
       " '460M -rw-rw-r-- 1 jmh jmh 460M Jun  5 15:17 003_00009.parquet',\n",
       " '419M -rw-rw-r-- 1 jmh jmh 419M Jun  5 18:33 003_00004.parquet',\n",
       " '200M -rw-rw-r-- 1 jmh jmh 200M Jun  5 20:16 008_00009.parquet',\n",
       " '200M -rw-rw-r-- 1 jmh jmh 200M Jun  5 16:12 013_00007.parquet',\n",
       " '114M -rw-rw-r-- 1 jmh jmh 114M Jun  5 15:32 000_00008.parquet',\n",
       " '108M -rw-rw-r-- 1 jmh jmh 108M Jun  5 16:12 011_00002.parquet',\n",
       " '107M -rw-rw-r-- 1 jmh jmh 107M Jun  5 16:19 001_00008.parquet',\n",
       " '104M -rw-rw-r-- 1 jmh jmh 104M Jun  5 20:19 010_00002.parquet',\n",
       " ' 86M -rw-rw-r-- 1 jmh jmh  86M Jun  5 15:31 010_00007.parquet',\n",
       " ' 83M -rw-rw-r-- 1 jmh jmh  83M Jun  5 16:06 011_00003.parquet',\n",
       " ' 56M -rw-rw-r-- 1 jmh jmh  56M Jun  5 20:18 007_00006.parquet',\n",
       " ' 33M -rw-rw-r-- 1 jmh jmh  33M Jun  5 15:52 011_00001.parquet',\n",
       " '9.0M -rw-rw-r-- 1 jmh jmh 8.9M Jun  5 14:27 004_00000.parquet']"
      ]
     },
     "execution_count": 2,
     "metadata": {},
     "output_type": "execute_result"
    }
   ],
   "source": [
    "lines"
   ]
  },
  {
   "cell_type": "code",
   "execution_count": 3,
   "metadata": {},
   "outputs": [
    {
     "data": {
      "text/plain": [
       "['009_00005.parquet',\n",
       " '012_00003.parquet',\n",
       " '010_00006.parquet',\n",
       " '007_00007.parquet',\n",
       " '000_00001.parquet',\n",
       " '003_00005.parquet',\n",
       " '013_00006.parquet',\n",
       " '013_00001.parquet',\n",
       " '009_00002.parquet',\n",
       " '013_00000.parquet',\n",
       " '013_00002.parquet',\n",
       " '013_00009.parquet',\n",
       " '013_00004.parquet',\n",
       " '013_00003.parquet',\n",
       " '013_00005.parquet',\n",
       " '013_00008.parquet',\n",
       " '000_00000.parquet',\n",
       " '009_00007.parquet',\n",
       " '011_00000.parquet',\n",
       " '003_00009.parquet',\n",
       " '003_00004.parquet',\n",
       " '008_00009.parquet',\n",
       " '013_00007.parquet',\n",
       " '000_00008.parquet',\n",
       " '011_00002.parquet',\n",
       " '001_00008.parquet',\n",
       " '010_00002.parquet',\n",
       " '010_00007.parquet',\n",
       " '011_00003.parquet',\n",
       " '007_00006.parquet',\n",
       " '011_00001.parquet',\n",
       " '004_00000.parquet']"
      ]
     },
     "execution_count": 3,
     "metadata": {},
     "output_type": "execute_result"
    }
   ],
   "source": [
    "lines = [line.split(' ')[-1] for line in lines]\n",
    "lines"
   ]
  },
  {
   "cell_type": "code",
   "execution_count": 4,
   "metadata": {},
   "outputs": [
    {
     "data": {
      "text/plain": [
       "32"
      ]
     },
     "execution_count": 4,
     "metadata": {},
     "output_type": "execute_result"
    }
   ],
   "source": [
    "len(lines)"
   ]
  },
  {
   "cell_type": "code",
   "execution_count": 5,
   "metadata": {},
   "outputs": [
    {
     "data": {
      "text/plain": [
       "['https://hf-mirror.com/datasets/HuggingFaceFW/fineweb-edu/resolve/main/sample/100BT/009_00005.parquet',\n",
       " 'https://hf-mirror.com/datasets/HuggingFaceFW/fineweb-edu/resolve/main/sample/100BT/012_00003.parquet',\n",
       " 'https://hf-mirror.com/datasets/HuggingFaceFW/fineweb-edu/resolve/main/sample/100BT/010_00006.parquet',\n",
       " 'https://hf-mirror.com/datasets/HuggingFaceFW/fineweb-edu/resolve/main/sample/100BT/007_00007.parquet',\n",
       " 'https://hf-mirror.com/datasets/HuggingFaceFW/fineweb-edu/resolve/main/sample/100BT/000_00001.parquet']"
      ]
     },
     "execution_count": 5,
     "metadata": {},
     "output_type": "execute_result"
    }
   ],
   "source": [
    "base_url = \"https://hf-mirror.com/datasets/HuggingFaceFW/fineweb-edu/resolve/main/sample/100BT/\"\n",
    "lines = [base_url + line for line in lines]\n",
    "lines[:5]"
   ]
  },
  {
   "cell_type": "code",
   "execution_count": 6,
   "metadata": {},
   "outputs": [],
   "source": [
    "with open(\"datasets/100BT.txt\", \"w\") as f:\n",
    "    f.write('\\n'.join(lines))"
   ]
  },
  {
   "cell_type": "code",
   "execution_count": 7,
   "metadata": {},
   "outputs": [
    {
     "data": {
      "text/plain": [
       "32"
      ]
     },
     "execution_count": 7,
     "metadata": {},
     "output_type": "execute_result"
    }
   ],
   "source": [
    "with open(\"datasets/100BT.txt\", \"r\") as f:\n",
    "    targets = f.read().splitlines()\n",
    "len(targets)"
   ]
  },
  {
   "cell_type": "code",
   "execution_count": 9,
   "metadata": {},
   "outputs": [
    {
     "data": {
      "text/plain": [
       "27"
      ]
     },
     "execution_count": 9,
     "metadata": {},
     "output_type": "execute_result"
    }
   ],
   "source": [
    "with open(\"downloaded_urls.txt\", 'r') as f:\n",
    "    downloaded_urls = f.read().splitlines()\n",
    "len(downloaded_urls)"
   ]
  },
  {
   "cell_type": "code",
   "execution_count": 10,
   "metadata": {},
   "outputs": [
    {
     "name": "stdout",
     "output_type": "stream",
     "text": [
      "https://hf-mirror.com/datasets/HuggingFaceFW/fineweb-edu/resolve/main/sample/100BT/010_00006.parquet\n",
      "https://hf-mirror.com/datasets/HuggingFaceFW/fineweb-edu/resolve/main/sample/100BT/000_00001.parquet\n",
      "https://hf-mirror.com/datasets/HuggingFaceFW/fineweb-edu/resolve/main/sample/100BT/013_00006.parquet\n",
      "https://hf-mirror.com/datasets/HuggingFaceFW/fineweb-edu/resolve/main/sample/100BT/013_00001.parquet\n",
      "https://hf-mirror.com/datasets/HuggingFaceFW/fineweb-edu/resolve/main/sample/100BT/011_00003.parquet\n"
     ]
    }
   ],
   "source": [
    "for url in targets:\n",
    "    if url not in downloaded_urls:\n",
    "        print(url)"
   ]
  },
  {
   "cell_type": "code",
   "execution_count": 1,
   "metadata": {},
   "outputs": [
    {
     "data": {
      "text/plain": [
       "['part-00-00000.csv.gz',\n",
       " 'part-00-00000.npy',\n",
       " 'part-01-00000.csv.gz',\n",
       " 'part-01-00000.npy',\n",
       " 'part-02-00000.csv.gz',\n",
       " 'part-02-00000.npy',\n",
       " 'part-03-00000.csv.gz',\n",
       " 'part-03-00000.npy',\n",
       " 'part-04-00000.csv.gz',\n",
       " 'part-04-00000.npy',\n",
       " 'part-05-00000.csv.gz',\n",
       " 'part-05-00000.npy',\n",
       " 'part-06-00000.csv.gz',\n",
       " 'part-06-00000.npy',\n",
       " 'part-07-00000.csv.gz',\n",
       " 'part-07-00000.npy',\n",
       " 'part-08-00000.csv.gz',\n",
       " 'part-08-00000.npy',\n",
       " 'part-09-00000.csv.gz',\n",
       " 'part-09-00000.npy',\n",
       " 'part-10-00000.csv.gz',\n",
       " 'part-10-00000.npy',\n",
       " 'part-11-00000.csv.gz',\n",
       " 'part-11-00000.npy',\n",
       " 'part-12-00000.csv.gz',\n",
       " 'part-12-00000.npy',\n",
       " 'part-13-00000.csv.gz',\n",
       " 'part-13-00000.npy',\n",
       " 'part-14-00000.csv.gz',\n",
       " 'part-14-00000.npy',\n",
       " 'part-15-00000.csv.gz',\n",
       " 'part-15-00000.npy',\n",
       " 'part-16-00000.csv.gz',\n",
       " 'part-16-00000.npy',\n",
       " 'part-17-00000.csv.gz',\n",
       " 'part-17-00000.npy',\n",
       " 'part-18-00000.csv.gz',\n",
       " 'part-18-00000.npy',\n",
       " 'part-19-00000.csv.gz',\n",
       " 'part-19-00000.npy',\n",
       " 'part-20-00000.csv.gz',\n",
       " 'part-20-00000.npy',\n",
       " 'part-21-00000.csv.gz',\n",
       " 'part-21-00000.npy',\n",
       " 'part-22-00000.csv.gz',\n",
       " 'part-22-00000.npy',\n",
       " 'part-23-00000.csv.gz',\n",
       " 'part-23-00000.npy',\n",
       " 'part-24-00000.csv.gz',\n",
       " 'part-24-00000.npy',\n",
       " 'part-25-00000.csv.gz',\n",
       " 'part-25-00000.npy',\n",
       " 'part-26-00000.csv.gz',\n",
       " 'part-26-00000.npy',\n",
       " 'part-27-00000.csv.gz',\n",
       " 'part-27-00000.npy',\n",
       " 'part-28-00000.csv.gz',\n",
       " 'part-28-00000.npy',\n",
       " 'part-29-00000.csv.gz',\n",
       " 'part-29-00000.npy']"
      ]
     },
     "execution_count": 1,
     "metadata": {},
     "output_type": "execute_result"
    }
   ],
   "source": [
    "import os\n",
    "\n",
    "# 文件夹路径\n",
    "folder_path = '/mnt/geogpt-gpfs/llm-course/public/tianwen/datasets/fineweb-edu-sample-100BT/npy_data/6'\n",
    "# folder_path = \"/mnt/geogpt-gpfs/llm-course/public/tianwen/npy/fineweb_edu_sample_100BT\"\n",
    "\n",
    "# 列出文件夹中的所有文件\n",
    "files = os.listdir(folder_path)\n",
    "files.sort()\n",
    "files"
   ]
  },
  {
   "cell_type": "code",
   "execution_count": 3,
   "metadata": {},
   "outputs": [
    {
     "name": "stdout",
     "output_type": "stream",
     "text": [
      "Renamed: part-00-00000.csv.gz to part-150-00000.csv.gz\n",
      "Renamed: part-00-00000.npy to part-150-00000.npy\n",
      "Renamed: part-01-00000.csv.gz to part-151-00000.csv.gz\n",
      "Renamed: part-01-00000.npy to part-151-00000.npy\n",
      "Renamed: part-02-00000.csv.gz to part-152-00000.csv.gz\n",
      "Renamed: part-02-00000.npy to part-152-00000.npy\n",
      "Renamed: part-03-00000.csv.gz to part-153-00000.csv.gz\n",
      "Renamed: part-03-00000.npy to part-153-00000.npy\n",
      "Renamed: part-04-00000.csv.gz to part-154-00000.csv.gz\n",
      "Renamed: part-04-00000.npy to part-154-00000.npy\n",
      "Renamed: part-05-00000.csv.gz to part-155-00000.csv.gz\n",
      "Renamed: part-05-00000.npy to part-155-00000.npy\n",
      "Renamed: part-06-00000.csv.gz to part-156-00000.csv.gz\n",
      "Renamed: part-06-00000.npy to part-156-00000.npy\n",
      "Renamed: part-07-00000.csv.gz to part-157-00000.csv.gz\n",
      "Renamed: part-07-00000.npy to part-157-00000.npy\n",
      "Renamed: part-08-00000.csv.gz to part-158-00000.csv.gz\n",
      "Renamed: part-08-00000.npy to part-158-00000.npy\n",
      "Renamed: part-09-00000.csv.gz to part-159-00000.csv.gz\n",
      "Renamed: part-09-00000.npy to part-159-00000.npy\n",
      "Renamed: part-10-00000.csv.gz to part-160-00000.csv.gz\n",
      "Renamed: part-10-00000.npy to part-160-00000.npy\n",
      "Renamed: part-11-00000.csv.gz to part-161-00000.csv.gz\n",
      "Renamed: part-11-00000.npy to part-161-00000.npy\n",
      "Renamed: part-12-00000.csv.gz to part-162-00000.csv.gz\n",
      "Renamed: part-12-00000.npy to part-162-00000.npy\n",
      "Renamed: part-13-00000.csv.gz to part-163-00000.csv.gz\n",
      "Renamed: part-13-00000.npy to part-163-00000.npy\n",
      "Renamed: part-14-00000.csv.gz to part-164-00000.csv.gz\n",
      "Renamed: part-14-00000.npy to part-164-00000.npy\n",
      "Renamed: part-15-00000.csv.gz to part-165-00000.csv.gz\n",
      "Renamed: part-15-00000.npy to part-165-00000.npy\n",
      "Renamed: part-16-00000.csv.gz to part-166-00000.csv.gz\n",
      "Renamed: part-16-00000.npy to part-166-00000.npy\n",
      "Renamed: part-17-00000.csv.gz to part-167-00000.csv.gz\n",
      "Renamed: part-17-00000.npy to part-167-00000.npy\n",
      "Renamed: part-18-00000.csv.gz to part-168-00000.csv.gz\n",
      "Renamed: part-18-00000.npy to part-168-00000.npy\n",
      "Renamed: part-19-00000.csv.gz to part-169-00000.csv.gz\n",
      "Renamed: part-19-00000.npy to part-169-00000.npy\n",
      "Renamed: part-20-00000.csv.gz to part-170-00000.csv.gz\n",
      "Renamed: part-20-00000.npy to part-170-00000.npy\n",
      "Renamed: part-21-00000.csv.gz to part-171-00000.csv.gz\n",
      "Renamed: part-21-00000.npy to part-171-00000.npy\n",
      "Renamed: part-22-00000.csv.gz to part-172-00000.csv.gz\n",
      "Renamed: part-22-00000.npy to part-172-00000.npy\n",
      "Renamed: part-23-00000.csv.gz to part-173-00000.csv.gz\n",
      "Renamed: part-23-00000.npy to part-173-00000.npy\n",
      "Renamed: part-24-00000.csv.gz to part-174-00000.csv.gz\n",
      "Renamed: part-24-00000.npy to part-174-00000.npy\n",
      "Renamed: part-25-00000.csv.gz to part-175-00000.csv.gz\n",
      "Renamed: part-25-00000.npy to part-175-00000.npy\n",
      "Renamed: part-26-00000.csv.gz to part-176-00000.csv.gz\n",
      "Renamed: part-26-00000.npy to part-176-00000.npy\n",
      "Renamed: part-27-00000.csv.gz to part-177-00000.csv.gz\n",
      "Renamed: part-27-00000.npy to part-177-00000.npy\n",
      "Renamed: part-28-00000.csv.gz to part-178-00000.csv.gz\n",
      "Renamed: part-28-00000.npy to part-178-00000.npy\n",
      "Renamed: part-29-00000.csv.gz to part-179-00000.csv.gz\n",
      "Renamed: part-29-00000.npy to part-179-00000.npy\n"
     ]
    }
   ],
   "source": [
    "base_idx = 150\n",
    "# 遍历所有文件\n",
    "tmp = []\n",
    "for filename in files:\n",
    "    part_idx = int(filename.split('-')[1])\n",
    "    extension = filename.split('-')[-1]\n",
    "    part_idx += base_idx\n",
    "    new_filename = f'part-{part_idx:03d}-{extension}'\n",
    "    old_file_path = os.path.join(folder_path, filename)\n",
    "    new_file_path = os.path.join(folder_path, new_filename)\n",
    "    # 重命名文件\n",
    "    os.rename(old_file_path, new_file_path)\n",
    "    print(f'Renamed: {filename} to {new_filename}')"
   ]
  },
  {
   "cell_type": "code",
   "execution_count": 5,
   "metadata": {},
   "outputs": [],
   "source": [
    "tmp.sort()"
   ]
  },
  {
   "cell_type": "code",
   "execution_count": 6,
   "metadata": {},
   "outputs": [
    {
     "data": {
      "text/plain": [
       "['part-31-00000.csv.gz',\n",
       " 'part-31-00000.npy',\n",
       " 'part-32-00000.csv.gz',\n",
       " 'part-32-00000.npy',\n",
       " 'part-33-00000.csv.gz',\n",
       " 'part-33-00000.npy',\n",
       " 'part-34-00000.csv.gz',\n",
       " 'part-34-00000.npy',\n",
       " 'part-35-00000.csv.gz',\n",
       " 'part-35-00000.npy',\n",
       " 'part-36-00000.csv.gz',\n",
       " 'part-36-00000.npy',\n",
       " 'part-37-00000.csv.gz',\n",
       " 'part-37-00000.npy',\n",
       " 'part-38-00000.csv.gz',\n",
       " 'part-38-00000.npy',\n",
       " 'part-39-00000.csv.gz',\n",
       " 'part-39-00000.npy',\n",
       " 'part-40-00000.csv.gz',\n",
       " 'part-40-00000.npy',\n",
       " 'part-41-00000.csv.gz',\n",
       " 'part-41-00000.npy',\n",
       " 'part-42-00000.csv.gz',\n",
       " 'part-42-00000.npy',\n",
       " 'part-43-00000.csv.gz',\n",
       " 'part-43-00000.npy',\n",
       " 'part-44-00000.csv.gz',\n",
       " 'part-44-00000.npy',\n",
       " 'part-45-00000.csv.gz',\n",
       " 'part-45-00000.npy',\n",
       " 'part-46-00000.csv.gz',\n",
       " 'part-46-00000.npy',\n",
       " 'part-47-00000.csv.gz',\n",
       " 'part-47-00000.npy',\n",
       " 'part-48-00000.csv.gz',\n",
       " 'part-48-00000.npy',\n",
       " 'part-49-00000.csv.gz',\n",
       " 'part-49-00000.npy',\n",
       " 'part-50-00000.csv.gz',\n",
       " 'part-50-00000.npy',\n",
       " 'part-51-00000.csv.gz',\n",
       " 'part-51-00000.npy',\n",
       " 'part-52-00000.csv.gz',\n",
       " 'part-52-00000.npy',\n",
       " 'part-53-00000.csv.gz',\n",
       " 'part-53-00000.npy',\n",
       " 'part-54-00000.csv.gz',\n",
       " 'part-54-00000.npy',\n",
       " 'part-55-00000.csv.gz',\n",
       " 'part-55-00000.npy',\n",
       " 'part-56-00000.csv.gz',\n",
       " 'part-56-00000.npy',\n",
       " 'part-57-00000.csv.gz',\n",
       " 'part-57-00000.npy',\n",
       " 'part-58-00000.csv.gz',\n",
       " 'part-58-00000.npy',\n",
       " 'part-59-00000.csv.gz',\n",
       " 'part-59-00000.npy',\n",
       " 'part-60-00000.csv.gz',\n",
       " 'part-60-00000.npy']"
      ]
     },
     "execution_count": 6,
     "metadata": {},
     "output_type": "execute_result"
    }
   ],
   "source": [
    "tmp"
   ]
  }
 ],
 "metadata": {
  "kernelspec": {
   "display_name": "llm",
   "language": "python",
   "name": "python3"
  },
  "language_info": {
   "codemirror_mode": {
    "name": "ipython",
    "version": 3
   },
   "file_extension": ".py",
   "mimetype": "text/x-python",
   "name": "python",
   "nbconvert_exporter": "python",
   "pygments_lexer": "ipython3",
   "version": "3.11.9"
  }
 },
 "nbformat": 4,
 "nbformat_minor": 2
}
