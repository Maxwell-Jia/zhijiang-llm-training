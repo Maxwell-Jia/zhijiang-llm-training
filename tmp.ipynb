{
 "cells": [
  {
   "cell_type": "code",
   "execution_count": 1,
   "metadata": {},
   "outputs": [],
   "source": [
    "with open('tmp.txt', 'r') as f:\n",
    "    lines = f.read().splitlines()"
   ]
  },
  {
   "cell_type": "code",
   "execution_count": 2,
   "metadata": {},
   "outputs": [
    {
     "data": {
      "text/plain": [
       "['2.0G -rw-rw-r-- 1 jmh jmh 2.0G Jun  5 17:57 009_00005.parquet',\n",
       " '1.9G -rw-rw-r-- 1 jmh jmh 1.9G Jun  5 18:13 012_00003.parquet',\n",
       " '1.3G -rw-rw-r-- 1 jmh jmh 1.3G Jun  5 14:42 010_00006.parquet',\n",
       " '1.3G -rw-rw-r-- 1 jmh jmh 1.3G Jun  5 20:18 007_00007.parquet',\n",
       " '894M -rw-rw-r-- 1 jmh jmh 894M Jun  5 14:21 000_00001.parquet',\n",
       " '848M -rw-rw-r-- 1 jmh jmh 848M Jun  5 15:25 003_00005.parquet',\n",
       " '723M -rw-rw-r-- 1 jmh jmh 723M Jun  5 16:08 013_00006.parquet',\n",
       " '709M -rw-rw-r-- 1 jmh jmh 709M Jun  5 16:02 013_00001.parquet',\n",
       " '702M -rw-rw-r-- 1 jmh jmh 702M Jun  5 15:46 009_00002.parquet',\n",
       " '697M -rw-rw-r-- 1 jmh jmh 697M Jun  5 16:13 013_00000.parquet',\n",
       " '687M -rw-rw-r-- 1 jmh jmh 687M Jun  5 16:02 013_00002.parquet',\n",
       " '679M -rw-rw-r-- 1 jmh jmh 679M Jun  5 16:11 013_00009.parquet',\n",
       " '673M -rw-rw-r-- 1 jmh jmh 673M Jun  5 16:05 013_00004.parquet',\n",
       " '670M -rw-rw-r-- 1 jmh jmh 670M Jun  5 16:05 013_00003.parquet',\n",
       " '661M -rw-rw-r-- 1 jmh jmh 661M Jun  5 16:08 013_00005.parquet',\n",
       " '643M -rw-rw-r-- 1 jmh jmh 643M Jun  5 16:11 013_00008.parquet',\n",
       " '541M -rw-rw-r-- 1 jmh jmh 541M Jun  5 15:02 000_00000.parquet',\n",
       " '516M -rw-rw-r-- 1 jmh jmh 516M Jun  5 18:06 009_00007.parquet',\n",
       " '475M -rw-rw-r-- 1 jmh jmh 475M Jun  5 15:13 011_00000.parquet',\n",
       " '460M -rw-rw-r-- 1 jmh jmh 460M Jun  5 15:17 003_00009.parquet',\n",
       " '419M -rw-rw-r-- 1 jmh jmh 419M Jun  5 18:33 003_00004.parquet',\n",
       " '200M -rw-rw-r-- 1 jmh jmh 200M Jun  5 20:16 008_00009.parquet',\n",
       " '200M -rw-rw-r-- 1 jmh jmh 200M Jun  5 16:12 013_00007.parquet',\n",
       " '114M -rw-rw-r-- 1 jmh jmh 114M Jun  5 15:32 000_00008.parquet',\n",
       " '108M -rw-rw-r-- 1 jmh jmh 108M Jun  5 16:12 011_00002.parquet',\n",
       " '107M -rw-rw-r-- 1 jmh jmh 107M Jun  5 16:19 001_00008.parquet',\n",
       " '104M -rw-rw-r-- 1 jmh jmh 104M Jun  5 20:19 010_00002.parquet',\n",
       " ' 86M -rw-rw-r-- 1 jmh jmh  86M Jun  5 15:31 010_00007.parquet',\n",
       " ' 83M -rw-rw-r-- 1 jmh jmh  83M Jun  5 16:06 011_00003.parquet',\n",
       " ' 56M -rw-rw-r-- 1 jmh jmh  56M Jun  5 20:18 007_00006.parquet',\n",
       " ' 33M -rw-rw-r-- 1 jmh jmh  33M Jun  5 15:52 011_00001.parquet',\n",
       " '9.0M -rw-rw-r-- 1 jmh jmh 8.9M Jun  5 14:27 004_00000.parquet']"
      ]
     },
     "execution_count": 2,
     "metadata": {},
     "output_type": "execute_result"
    }
   ],
   "source": [
    "lines"
   ]
  },
  {
   "cell_type": "code",
   "execution_count": 3,
   "metadata": {},
   "outputs": [
    {
     "data": {
      "text/plain": [
       "['009_00005.parquet',\n",
       " '012_00003.parquet',\n",
       " '010_00006.parquet',\n",
       " '007_00007.parquet',\n",
       " '000_00001.parquet',\n",
       " '003_00005.parquet',\n",
       " '013_00006.parquet',\n",
       " '013_00001.parquet',\n",
       " '009_00002.parquet',\n",
       " '013_00000.parquet',\n",
       " '013_00002.parquet',\n",
       " '013_00009.parquet',\n",
       " '013_00004.parquet',\n",
       " '013_00003.parquet',\n",
       " '013_00005.parquet',\n",
       " '013_00008.parquet',\n",
       " '000_00000.parquet',\n",
       " '009_00007.parquet',\n",
       " '011_00000.parquet',\n",
       " '003_00009.parquet',\n",
       " '003_00004.parquet',\n",
       " '008_00009.parquet',\n",
       " '013_00007.parquet',\n",
       " '000_00008.parquet',\n",
       " '011_00002.parquet',\n",
       " '001_00008.parquet',\n",
       " '010_00002.parquet',\n",
       " '010_00007.parquet',\n",
       " '011_00003.parquet',\n",
       " '007_00006.parquet',\n",
       " '011_00001.parquet',\n",
       " '004_00000.parquet']"
      ]
     },
     "execution_count": 3,
     "metadata": {},
     "output_type": "execute_result"
    }
   ],
   "source": [
    "lines = [line.split(' ')[-1] for line in lines]\n",
    "lines"
   ]
  },
  {
   "cell_type": "code",
   "execution_count": 4,
   "metadata": {},
   "outputs": [
    {
     "data": {
      "text/plain": [
       "32"
      ]
     },
     "execution_count": 4,
     "metadata": {},
     "output_type": "execute_result"
    }
   ],
   "source": [
    "len(lines)"
   ]
  },
  {
   "cell_type": "code",
   "execution_count": 5,
   "metadata": {},
   "outputs": [
    {
     "data": {
      "text/plain": [
       "['https://hf-mirror.com/datasets/HuggingFaceFW/fineweb-edu/resolve/main/sample/100BT/009_00005.parquet',\n",
       " 'https://hf-mirror.com/datasets/HuggingFaceFW/fineweb-edu/resolve/main/sample/100BT/012_00003.parquet',\n",
       " 'https://hf-mirror.com/datasets/HuggingFaceFW/fineweb-edu/resolve/main/sample/100BT/010_00006.parquet',\n",
       " 'https://hf-mirror.com/datasets/HuggingFaceFW/fineweb-edu/resolve/main/sample/100BT/007_00007.parquet',\n",
       " 'https://hf-mirror.com/datasets/HuggingFaceFW/fineweb-edu/resolve/main/sample/100BT/000_00001.parquet']"
      ]
     },
     "execution_count": 5,
     "metadata": {},
     "output_type": "execute_result"
    }
   ],
   "source": [
    "base_url = \"https://hf-mirror.com/datasets/HuggingFaceFW/fineweb-edu/resolve/main/sample/100BT/\"\n",
    "lines = [base_url + line for line in lines]\n",
    "lines[:5]"
   ]
  },
  {
   "cell_type": "code",
   "execution_count": 6,
   "metadata": {},
   "outputs": [],
   "source": [
    "with open(\"datasets/100BT.txt\", \"w\") as f:\n",
    "    f.write('\\n'.join(lines))"
   ]
  },
  {
   "cell_type": "code",
   "execution_count": 7,
   "metadata": {},
   "outputs": [
    {
     "data": {
      "text/plain": [
       "32"
      ]
     },
     "execution_count": 7,
     "metadata": {},
     "output_type": "execute_result"
    }
   ],
   "source": [
    "with open(\"datasets/100BT.txt\", \"r\") as f:\n",
    "    targets = f.read().splitlines()\n",
    "len(targets)"
   ]
  },
  {
   "cell_type": "code",
   "execution_count": 9,
   "metadata": {},
   "outputs": [
    {
     "data": {
      "text/plain": [
       "27"
      ]
     },
     "execution_count": 9,
     "metadata": {},
     "output_type": "execute_result"
    }
   ],
   "source": [
    "with open(\"downloaded_urls.txt\", 'r') as f:\n",
    "    downloaded_urls = f.read().splitlines()\n",
    "len(downloaded_urls)"
   ]
  },
  {
   "cell_type": "code",
   "execution_count": 10,
   "metadata": {},
   "outputs": [
    {
     "name": "stdout",
     "output_type": "stream",
     "text": [
      "https://hf-mirror.com/datasets/HuggingFaceFW/fineweb-edu/resolve/main/sample/100BT/010_00006.parquet\n",
      "https://hf-mirror.com/datasets/HuggingFaceFW/fineweb-edu/resolve/main/sample/100BT/000_00001.parquet\n",
      "https://hf-mirror.com/datasets/HuggingFaceFW/fineweb-edu/resolve/main/sample/100BT/013_00006.parquet\n",
      "https://hf-mirror.com/datasets/HuggingFaceFW/fineweb-edu/resolve/main/sample/100BT/013_00001.parquet\n",
      "https://hf-mirror.com/datasets/HuggingFaceFW/fineweb-edu/resolve/main/sample/100BT/011_00003.parquet\n"
     ]
    }
   ],
   "source": [
    "for url in targets:\n",
    "    if url not in downloaded_urls:\n",
    "        print(url)"
   ]
  },
  {
   "cell_type": "code",
   "execution_count": null,
   "metadata": {},
   "outputs": [],
   "source": []
  }
 ],
 "metadata": {
  "kernelspec": {
   "display_name": "llm",
   "language": "python",
   "name": "python3"
  },
  "language_info": {
   "codemirror_mode": {
    "name": "ipython",
    "version": 3
   },
   "file_extension": ".py",
   "mimetype": "text/x-python",
   "name": "python",
   "nbconvert_exporter": "python",
   "pygments_lexer": "ipython3",
   "version": "3.11.9"
  }
 },
 "nbformat": 4,
 "nbformat_minor": 2
}
